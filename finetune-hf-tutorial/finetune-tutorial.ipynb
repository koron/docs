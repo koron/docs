{
 "cells": [
  {
   "cell_type": "markdown",
   "id": "4db21b62-22a9-46e3-9bb6-cf1a62614c71",
   "metadata": {},
   "source": [
    "# Finetune (training) Hands-on\n",
    "\n",
    "<https://huggingface.co/docs/transformers/ja/training>"
   ]
  },
  {
   "cell_type": "code",
   "execution_count": 1,
   "id": "0303b0ef-5b85-4252-a4e0-8eee8a6801b1",
   "metadata": {},
   "outputs": [],
   "source": [
    "from datasets import load_dataset\n",
    "from transformers import AutoTokenizer"
   ]
  },
  {
   "cell_type": "markdown",
   "id": "cded224a-cf92-4a5d-9076-598f04085f85",
   "metadata": {},
   "source": [
    "## Preparing dataset"
   ]
  },
  {
   "cell_type": "markdown",
   "id": "f1255cac-219f-4872-86bd-e49eea92937a",
   "metadata": {},
   "source": [
    "データセットを読み込む。データセットは [YelpReviewFull](https://huggingface.co/datasets/Yelp/yelp_review_full) でローカルビジネスのレビューとその点数。"
   ]
  },
  {
   "cell_type": "code",
   "execution_count": 2,
   "id": "f8b76a2f-43ce-49d1-83de-628716412a4f",
   "metadata": {
    "scrolled": true
   },
   "outputs": [
    {
     "data": {
      "text/plain": [
       "{'label': 0,\n",
       " 'text': 'My expectations for McDonalds are t rarely high. But for one to still fail so spectacularly...that takes something special!\\\\nThe cashier took my friends\\'s order, then promptly ignored me. I had to force myself in front of a cashier who opened his register to wait on the person BEHIND me. I waited over five minutes for a gigantic order that included precisely one kid\\'s meal. After watching two people who ordered after me be handed their food, I asked where mine was. The manager started yelling at the cashiers for \\\\\"serving off their orders\\\\\" when they didn\\'t have their food. But neither cashier was anywhere near those controls, and the manager was the one serving food to customers and clearing the boards.\\\\nThe manager was rude when giving me my order. She didn\\'t make sure that I had everything ON MY RECEIPT, and never even had the decency to apologize that I felt I was getting poor service.\\\\nI\\'ve eaten at various McDonalds restaurants for over 30 years. I\\'ve worked at more than one location. I expect bad days, bad moods, and the occasional mistake. But I have yet to have a decent experience at this store. It will remain a place I avoid unless someone in my party needs to avoid illness from low blood sugar. Perhaps I should go back to the racially biased service of Steak n Shake instead!'}"
      ]
     },
     "execution_count": 2,
     "metadata": {},
     "output_type": "execute_result"
    }
   ],
   "source": [
    "dataset = load_dataset(\"yelp_review_full\")\n",
    "dataset[\"train\"][100]"
   ]
  },
  {
   "cell_type": "markdown",
   "id": "8c29d71c-f41e-4282-88b5-ce0874761b09",
   "metadata": {},
   "source": [
    "トークナイザ(BERTより)を準備"
   ]
  },
  {
   "cell_type": "code",
   "execution_count": 3,
   "id": "0de2e191-356b-4ca7-b009-b05f3ab36cd8",
   "metadata": {},
   "outputs": [],
   "source": [
    "tokenizer = AutoTokenizer.from_pretrained(\"google-bert/bert-base-cased\")"
   ]
  },
  {
   "cell_type": "markdown",
   "id": "aae24d99-c847-4849-9be7-e9403afbe30c",
   "metadata": {},
   "source": [
    "データセットをあらかじめトークナイズしちゃう"
   ]
  },
  {
   "cell_type": "code",
   "execution_count": 4,
   "id": "ad0011f5-2fff-4efc-8218-05d8c53dfa3f",
   "metadata": {},
   "outputs": [],
   "source": [
    "def tokenize_function(examples):\n",
    "    return tokenizer(examples[\"text\"], padding=\"max_length\", truncation=True)\n",
    "\n",
    "tokenized_datasets = dataset.map(tokenize_function, batched=True)"
   ]
  },
  {
   "cell_type": "markdown",
   "id": "917a0c8f-5ffb-4648-beed-264a291fea72",
   "metadata": {},
   "source": [
    "実行時間を短くするために、サブセットで学習&評価する"
   ]
  },
  {
   "cell_type": "code",
   "execution_count": 5,
   "id": "43acd3fe-682c-48ec-99cb-b5fe11b2e0f9",
   "metadata": {},
   "outputs": [],
   "source": [
    "small_train_dataset = tokenized_datasets[\"train\"].shuffle(seed=42).select(range(1000))\n",
    "small_eval_dataset = tokenized_datasets[\"test\"].shuffle(seed=42).select(range(1000))"
   ]
  },
  {
   "cell_type": "markdown",
   "id": "b7a7f3bf-0570-47b4-a4d4-8adbcb0650d1",
   "metadata": {},
   "source": [
    "## Train with Pytorch Trainer"
   ]
  },
  {
   "cell_type": "code",
   "execution_count": 6,
   "id": "43dbf5ae-8ee6-4069-bc1f-f11b006e3617",
   "metadata": {},
   "outputs": [],
   "source": [
    "from transformers import AutoModelForSequenceClassification\n",
    "from transformers import TrainingArguments, Trainer"
   ]
  },
  {
   "cell_type": "markdown",
   "id": "20fddecf-b63b-4b0a-b953-9cc2f4a1dc9d",
   "metadata": {},
   "source": [
    "モデル: Google BERT を読み込む。FP32でGPUへ読み込まれる。"
   ]
  },
  {
   "cell_type": "code",
   "execution_count": 7,
   "id": "b6c1c238-850b-40dd-bb73-78253e2dbf77",
   "metadata": {
    "scrolled": true
   },
   "outputs": [
    {
     "name": "stderr",
     "output_type": "stream",
     "text": [
      "Some weights of BertForSequenceClassification were not initialized from the model checkpoint at google-bert/bert-base-cased and are newly initialized: ['classifier.bias', 'classifier.weight']\n",
      "You should probably TRAIN this model on a down-stream task to be able to use it for predictions and inference.\n"
     ]
    },
    {
     "name": "stdout",
     "output_type": "stream",
     "text": [
      "bert.embeddings.word_embeddings.weight                                           torch.Size([28996, 768])       torch.float32 False\n",
      "bert.embeddings.position_embeddings.weight                                       torch.Size([512, 768])         torch.float32 False\n",
      "bert.embeddings.token_type_embeddings.weight                                     torch.Size([2, 768])           torch.float32 False\n",
      "bert.embeddings.LayerNorm.weight                                                 torch.Size([768])              torch.float32 False\n",
      "bert.embeddings.LayerNorm.bias                                                   torch.Size([768])              torch.float32 False\n",
      "bert.encoder.layer.0.attention.self.query.weight                                 torch.Size([768, 768])         torch.float32 False\n",
      "bert.encoder.layer.0.attention.self.query.bias                                   torch.Size([768])              torch.float32 False\n",
      "bert.encoder.layer.0.attention.self.key.weight                                   torch.Size([768, 768])         torch.float32 False\n",
      "bert.encoder.layer.0.attention.self.key.bias                                     torch.Size([768])              torch.float32 False\n",
      "bert.encoder.layer.0.attention.self.value.weight                                 torch.Size([768, 768])         torch.float32 False\n",
      "bert.encoder.layer.0.attention.self.value.bias                                   torch.Size([768])              torch.float32 False\n",
      "bert.encoder.layer.0.attention.output.dense.weight                               torch.Size([768, 768])         torch.float32 False\n",
      "bert.encoder.layer.0.attention.output.dense.bias                                 torch.Size([768])              torch.float32 False\n",
      "bert.encoder.layer.0.attention.output.LayerNorm.weight                           torch.Size([768])              torch.float32 False\n",
      "bert.encoder.layer.0.attention.output.LayerNorm.bias                             torch.Size([768])              torch.float32 False\n",
      "bert.encoder.layer.0.intermediate.dense.weight                                   torch.Size([3072, 768])        torch.float32 False\n",
      "bert.encoder.layer.0.intermediate.dense.bias                                     torch.Size([3072])             torch.float32 False\n",
      "bert.encoder.layer.0.output.dense.weight                                         torch.Size([768, 3072])        torch.float32 False\n",
      "bert.encoder.layer.0.output.dense.bias                                           torch.Size([768])              torch.float32 False\n",
      "bert.encoder.layer.0.output.LayerNorm.weight                                     torch.Size([768])              torch.float32 False\n",
      "bert.encoder.layer.0.output.LayerNorm.bias                                       torch.Size([768])              torch.float32 False\n",
      "bert.encoder.layer.1.attention.self.query.weight                                 torch.Size([768, 768])         torch.float32 False\n",
      "bert.encoder.layer.1.attention.self.query.bias                                   torch.Size([768])              torch.float32 False\n",
      "bert.encoder.layer.1.attention.self.key.weight                                   torch.Size([768, 768])         torch.float32 False\n",
      "bert.encoder.layer.1.attention.self.key.bias                                     torch.Size([768])              torch.float32 False\n",
      "bert.encoder.layer.1.attention.self.value.weight                                 torch.Size([768, 768])         torch.float32 False\n",
      "bert.encoder.layer.1.attention.self.value.bias                                   torch.Size([768])              torch.float32 False\n",
      "bert.encoder.layer.1.attention.output.dense.weight                               torch.Size([768, 768])         torch.float32 False\n",
      "bert.encoder.layer.1.attention.output.dense.bias                                 torch.Size([768])              torch.float32 False\n",
      "bert.encoder.layer.1.attention.output.LayerNorm.weight                           torch.Size([768])              torch.float32 False\n",
      "bert.encoder.layer.1.attention.output.LayerNorm.bias                             torch.Size([768])              torch.float32 False\n",
      "bert.encoder.layer.1.intermediate.dense.weight                                   torch.Size([3072, 768])        torch.float32 False\n",
      "bert.encoder.layer.1.intermediate.dense.bias                                     torch.Size([3072])             torch.float32 False\n",
      "bert.encoder.layer.1.output.dense.weight                                         torch.Size([768, 3072])        torch.float32 False\n",
      "bert.encoder.layer.1.output.dense.bias                                           torch.Size([768])              torch.float32 False\n",
      "bert.encoder.layer.1.output.LayerNorm.weight                                     torch.Size([768])              torch.float32 False\n",
      "bert.encoder.layer.1.output.LayerNorm.bias                                       torch.Size([768])              torch.float32 False\n",
      "bert.encoder.layer.2.attention.self.query.weight                                 torch.Size([768, 768])         torch.float32 False\n",
      "bert.encoder.layer.2.attention.self.query.bias                                   torch.Size([768])              torch.float32 False\n",
      "bert.encoder.layer.2.attention.self.key.weight                                   torch.Size([768, 768])         torch.float32 False\n",
      "bert.encoder.layer.2.attention.self.key.bias                                     torch.Size([768])              torch.float32 False\n",
      "bert.encoder.layer.2.attention.self.value.weight                                 torch.Size([768, 768])         torch.float32 False\n",
      "bert.encoder.layer.2.attention.self.value.bias                                   torch.Size([768])              torch.float32 False\n",
      "bert.encoder.layer.2.attention.output.dense.weight                               torch.Size([768, 768])         torch.float32 False\n",
      "bert.encoder.layer.2.attention.output.dense.bias                                 torch.Size([768])              torch.float32 False\n",
      "bert.encoder.layer.2.attention.output.LayerNorm.weight                           torch.Size([768])              torch.float32 False\n",
      "bert.encoder.layer.2.attention.output.LayerNorm.bias                             torch.Size([768])              torch.float32 False\n",
      "bert.encoder.layer.2.intermediate.dense.weight                                   torch.Size([3072, 768])        torch.float32 False\n",
      "bert.encoder.layer.2.intermediate.dense.bias                                     torch.Size([3072])             torch.float32 False\n",
      "bert.encoder.layer.2.output.dense.weight                                         torch.Size([768, 3072])        torch.float32 False\n",
      "bert.encoder.layer.2.output.dense.bias                                           torch.Size([768])              torch.float32 False\n",
      "bert.encoder.layer.2.output.LayerNorm.weight                                     torch.Size([768])              torch.float32 False\n",
      "bert.encoder.layer.2.output.LayerNorm.bias                                       torch.Size([768])              torch.float32 False\n",
      "bert.encoder.layer.3.attention.self.query.weight                                 torch.Size([768, 768])         torch.float32 False\n",
      "bert.encoder.layer.3.attention.self.query.bias                                   torch.Size([768])              torch.float32 False\n",
      "bert.encoder.layer.3.attention.self.key.weight                                   torch.Size([768, 768])         torch.float32 False\n",
      "bert.encoder.layer.3.attention.self.key.bias                                     torch.Size([768])              torch.float32 False\n",
      "bert.encoder.layer.3.attention.self.value.weight                                 torch.Size([768, 768])         torch.float32 False\n",
      "bert.encoder.layer.3.attention.self.value.bias                                   torch.Size([768])              torch.float32 False\n",
      "bert.encoder.layer.3.attention.output.dense.weight                               torch.Size([768, 768])         torch.float32 False\n",
      "bert.encoder.layer.3.attention.output.dense.bias                                 torch.Size([768])              torch.float32 False\n",
      "bert.encoder.layer.3.attention.output.LayerNorm.weight                           torch.Size([768])              torch.float32 False\n",
      "bert.encoder.layer.3.attention.output.LayerNorm.bias                             torch.Size([768])              torch.float32 False\n",
      "bert.encoder.layer.3.intermediate.dense.weight                                   torch.Size([3072, 768])        torch.float32 False\n",
      "bert.encoder.layer.3.intermediate.dense.bias                                     torch.Size([3072])             torch.float32 False\n",
      "bert.encoder.layer.3.output.dense.weight                                         torch.Size([768, 3072])        torch.float32 False\n",
      "bert.encoder.layer.3.output.dense.bias                                           torch.Size([768])              torch.float32 False\n",
      "bert.encoder.layer.3.output.LayerNorm.weight                                     torch.Size([768])              torch.float32 False\n",
      "bert.encoder.layer.3.output.LayerNorm.bias                                       torch.Size([768])              torch.float32 False\n",
      "bert.encoder.layer.4.attention.self.query.weight                                 torch.Size([768, 768])         torch.float32 False\n",
      "bert.encoder.layer.4.attention.self.query.bias                                   torch.Size([768])              torch.float32 False\n",
      "bert.encoder.layer.4.attention.self.key.weight                                   torch.Size([768, 768])         torch.float32 False\n",
      "bert.encoder.layer.4.attention.self.key.bias                                     torch.Size([768])              torch.float32 False\n",
      "bert.encoder.layer.4.attention.self.value.weight                                 torch.Size([768, 768])         torch.float32 False\n",
      "bert.encoder.layer.4.attention.self.value.bias                                   torch.Size([768])              torch.float32 False\n",
      "bert.encoder.layer.4.attention.output.dense.weight                               torch.Size([768, 768])         torch.float32 False\n",
      "bert.encoder.layer.4.attention.output.dense.bias                                 torch.Size([768])              torch.float32 False\n",
      "bert.encoder.layer.4.attention.output.LayerNorm.weight                           torch.Size([768])              torch.float32 False\n",
      "bert.encoder.layer.4.attention.output.LayerNorm.bias                             torch.Size([768])              torch.float32 False\n",
      "bert.encoder.layer.4.intermediate.dense.weight                                   torch.Size([3072, 768])        torch.float32 False\n",
      "bert.encoder.layer.4.intermediate.dense.bias                                     torch.Size([3072])             torch.float32 False\n",
      "bert.encoder.layer.4.output.dense.weight                                         torch.Size([768, 3072])        torch.float32 False\n",
      "bert.encoder.layer.4.output.dense.bias                                           torch.Size([768])              torch.float32 False\n",
      "bert.encoder.layer.4.output.LayerNorm.weight                                     torch.Size([768])              torch.float32 False\n",
      "bert.encoder.layer.4.output.LayerNorm.bias                                       torch.Size([768])              torch.float32 False\n",
      "bert.encoder.layer.5.attention.self.query.weight                                 torch.Size([768, 768])         torch.float32 False\n",
      "bert.encoder.layer.5.attention.self.query.bias                                   torch.Size([768])              torch.float32 False\n",
      "bert.encoder.layer.5.attention.self.key.weight                                   torch.Size([768, 768])         torch.float32 False\n",
      "bert.encoder.layer.5.attention.self.key.bias                                     torch.Size([768])              torch.float32 False\n",
      "bert.encoder.layer.5.attention.self.value.weight                                 torch.Size([768, 768])         torch.float32 False\n",
      "bert.encoder.layer.5.attention.self.value.bias                                   torch.Size([768])              torch.float32 False\n",
      "bert.encoder.layer.5.attention.output.dense.weight                               torch.Size([768, 768])         torch.float32 False\n",
      "bert.encoder.layer.5.attention.output.dense.bias                                 torch.Size([768])              torch.float32 False\n",
      "bert.encoder.layer.5.attention.output.LayerNorm.weight                           torch.Size([768])              torch.float32 False\n",
      "bert.encoder.layer.5.attention.output.LayerNorm.bias                             torch.Size([768])              torch.float32 False\n",
      "bert.encoder.layer.5.intermediate.dense.weight                                   torch.Size([3072, 768])        torch.float32 False\n",
      "bert.encoder.layer.5.intermediate.dense.bias                                     torch.Size([3072])             torch.float32 False\n",
      "bert.encoder.layer.5.output.dense.weight                                         torch.Size([768, 3072])        torch.float32 False\n",
      "bert.encoder.layer.5.output.dense.bias                                           torch.Size([768])              torch.float32 False\n",
      "bert.encoder.layer.5.output.LayerNorm.weight                                     torch.Size([768])              torch.float32 False\n",
      "bert.encoder.layer.5.output.LayerNorm.bias                                       torch.Size([768])              torch.float32 False\n",
      "bert.encoder.layer.6.attention.self.query.weight                                 torch.Size([768, 768])         torch.float32 False\n",
      "bert.encoder.layer.6.attention.self.query.bias                                   torch.Size([768])              torch.float32 False\n",
      "bert.encoder.layer.6.attention.self.key.weight                                   torch.Size([768, 768])         torch.float32 False\n",
      "bert.encoder.layer.6.attention.self.key.bias                                     torch.Size([768])              torch.float32 False\n",
      "bert.encoder.layer.6.attention.self.value.weight                                 torch.Size([768, 768])         torch.float32 False\n",
      "bert.encoder.layer.6.attention.self.value.bias                                   torch.Size([768])              torch.float32 False\n",
      "bert.encoder.layer.6.attention.output.dense.weight                               torch.Size([768, 768])         torch.float32 False\n",
      "bert.encoder.layer.6.attention.output.dense.bias                                 torch.Size([768])              torch.float32 False\n",
      "bert.encoder.layer.6.attention.output.LayerNorm.weight                           torch.Size([768])              torch.float32 False\n",
      "bert.encoder.layer.6.attention.output.LayerNorm.bias                             torch.Size([768])              torch.float32 False\n",
      "bert.encoder.layer.6.intermediate.dense.weight                                   torch.Size([3072, 768])        torch.float32 False\n",
      "bert.encoder.layer.6.intermediate.dense.bias                                     torch.Size([3072])             torch.float32 False\n",
      "bert.encoder.layer.6.output.dense.weight                                         torch.Size([768, 3072])        torch.float32 False\n",
      "bert.encoder.layer.6.output.dense.bias                                           torch.Size([768])              torch.float32 False\n",
      "bert.encoder.layer.6.output.LayerNorm.weight                                     torch.Size([768])              torch.float32 False\n",
      "bert.encoder.layer.6.output.LayerNorm.bias                                       torch.Size([768])              torch.float32 False\n",
      "bert.encoder.layer.7.attention.self.query.weight                                 torch.Size([768, 768])         torch.float32 False\n",
      "bert.encoder.layer.7.attention.self.query.bias                                   torch.Size([768])              torch.float32 False\n",
      "bert.encoder.layer.7.attention.self.key.weight                                   torch.Size([768, 768])         torch.float32 False\n",
      "bert.encoder.layer.7.attention.self.key.bias                                     torch.Size([768])              torch.float32 False\n",
      "bert.encoder.layer.7.attention.self.value.weight                                 torch.Size([768, 768])         torch.float32 False\n",
      "bert.encoder.layer.7.attention.self.value.bias                                   torch.Size([768])              torch.float32 False\n",
      "bert.encoder.layer.7.attention.output.dense.weight                               torch.Size([768, 768])         torch.float32 False\n",
      "bert.encoder.layer.7.attention.output.dense.bias                                 torch.Size([768])              torch.float32 False\n",
      "bert.encoder.layer.7.attention.output.LayerNorm.weight                           torch.Size([768])              torch.float32 False\n",
      "bert.encoder.layer.7.attention.output.LayerNorm.bias                             torch.Size([768])              torch.float32 False\n",
      "bert.encoder.layer.7.intermediate.dense.weight                                   torch.Size([3072, 768])        torch.float32 False\n",
      "bert.encoder.layer.7.intermediate.dense.bias                                     torch.Size([3072])             torch.float32 False\n",
      "bert.encoder.layer.7.output.dense.weight                                         torch.Size([768, 3072])        torch.float32 False\n",
      "bert.encoder.layer.7.output.dense.bias                                           torch.Size([768])              torch.float32 False\n",
      "bert.encoder.layer.7.output.LayerNorm.weight                                     torch.Size([768])              torch.float32 False\n",
      "bert.encoder.layer.7.output.LayerNorm.bias                                       torch.Size([768])              torch.float32 False\n",
      "bert.encoder.layer.8.attention.self.query.weight                                 torch.Size([768, 768])         torch.float32 False\n",
      "bert.encoder.layer.8.attention.self.query.bias                                   torch.Size([768])              torch.float32 False\n",
      "bert.encoder.layer.8.attention.self.key.weight                                   torch.Size([768, 768])         torch.float32 False\n",
      "bert.encoder.layer.8.attention.self.key.bias                                     torch.Size([768])              torch.float32 False\n",
      "bert.encoder.layer.8.attention.self.value.weight                                 torch.Size([768, 768])         torch.float32 False\n",
      "bert.encoder.layer.8.attention.self.value.bias                                   torch.Size([768])              torch.float32 False\n",
      "bert.encoder.layer.8.attention.output.dense.weight                               torch.Size([768, 768])         torch.float32 False\n",
      "bert.encoder.layer.8.attention.output.dense.bias                                 torch.Size([768])              torch.float32 False\n",
      "bert.encoder.layer.8.attention.output.LayerNorm.weight                           torch.Size([768])              torch.float32 False\n",
      "bert.encoder.layer.8.attention.output.LayerNorm.bias                             torch.Size([768])              torch.float32 False\n",
      "bert.encoder.layer.8.intermediate.dense.weight                                   torch.Size([3072, 768])        torch.float32 False\n",
      "bert.encoder.layer.8.intermediate.dense.bias                                     torch.Size([3072])             torch.float32 False\n",
      "bert.encoder.layer.8.output.dense.weight                                         torch.Size([768, 3072])        torch.float32 False\n",
      "bert.encoder.layer.8.output.dense.bias                                           torch.Size([768])              torch.float32 False\n",
      "bert.encoder.layer.8.output.LayerNorm.weight                                     torch.Size([768])              torch.float32 False\n",
      "bert.encoder.layer.8.output.LayerNorm.bias                                       torch.Size([768])              torch.float32 False\n",
      "bert.encoder.layer.9.attention.self.query.weight                                 torch.Size([768, 768])         torch.float32 False\n",
      "bert.encoder.layer.9.attention.self.query.bias                                   torch.Size([768])              torch.float32 False\n",
      "bert.encoder.layer.9.attention.self.key.weight                                   torch.Size([768, 768])         torch.float32 False\n",
      "bert.encoder.layer.9.attention.self.key.bias                                     torch.Size([768])              torch.float32 False\n",
      "bert.encoder.layer.9.attention.self.value.weight                                 torch.Size([768, 768])         torch.float32 False\n",
      "bert.encoder.layer.9.attention.self.value.bias                                   torch.Size([768])              torch.float32 False\n",
      "bert.encoder.layer.9.attention.output.dense.weight                               torch.Size([768, 768])         torch.float32 False\n",
      "bert.encoder.layer.9.attention.output.dense.bias                                 torch.Size([768])              torch.float32 False\n",
      "bert.encoder.layer.9.attention.output.LayerNorm.weight                           torch.Size([768])              torch.float32 False\n",
      "bert.encoder.layer.9.attention.output.LayerNorm.bias                             torch.Size([768])              torch.float32 False\n",
      "bert.encoder.layer.9.intermediate.dense.weight                                   torch.Size([3072, 768])        torch.float32 False\n",
      "bert.encoder.layer.9.intermediate.dense.bias                                     torch.Size([3072])             torch.float32 False\n",
      "bert.encoder.layer.9.output.dense.weight                                         torch.Size([768, 3072])        torch.float32 False\n",
      "bert.encoder.layer.9.output.dense.bias                                           torch.Size([768])              torch.float32 False\n",
      "bert.encoder.layer.9.output.LayerNorm.weight                                     torch.Size([768])              torch.float32 False\n",
      "bert.encoder.layer.9.output.LayerNorm.bias                                       torch.Size([768])              torch.float32 False\n",
      "bert.encoder.layer.10.attention.self.query.weight                                torch.Size([768, 768])         torch.float32 False\n",
      "bert.encoder.layer.10.attention.self.query.bias                                  torch.Size([768])              torch.float32 False\n",
      "bert.encoder.layer.10.attention.self.key.weight                                  torch.Size([768, 768])         torch.float32 False\n",
      "bert.encoder.layer.10.attention.self.key.bias                                    torch.Size([768])              torch.float32 False\n",
      "bert.encoder.layer.10.attention.self.value.weight                                torch.Size([768, 768])         torch.float32 False\n",
      "bert.encoder.layer.10.attention.self.value.bias                                  torch.Size([768])              torch.float32 False\n",
      "bert.encoder.layer.10.attention.output.dense.weight                              torch.Size([768, 768])         torch.float32 False\n",
      "bert.encoder.layer.10.attention.output.dense.bias                                torch.Size([768])              torch.float32 False\n",
      "bert.encoder.layer.10.attention.output.LayerNorm.weight                          torch.Size([768])              torch.float32 False\n",
      "bert.encoder.layer.10.attention.output.LayerNorm.bias                            torch.Size([768])              torch.float32 False\n",
      "bert.encoder.layer.10.intermediate.dense.weight                                  torch.Size([3072, 768])        torch.float32 False\n",
      "bert.encoder.layer.10.intermediate.dense.bias                                    torch.Size([3072])             torch.float32 False\n",
      "bert.encoder.layer.10.output.dense.weight                                        torch.Size([768, 3072])        torch.float32 False\n",
      "bert.encoder.layer.10.output.dense.bias                                          torch.Size([768])              torch.float32 False\n",
      "bert.encoder.layer.10.output.LayerNorm.weight                                    torch.Size([768])              torch.float32 False\n",
      "bert.encoder.layer.10.output.LayerNorm.bias                                      torch.Size([768])              torch.float32 False\n",
      "bert.encoder.layer.11.attention.self.query.weight                                torch.Size([768, 768])         torch.float32 False\n",
      "bert.encoder.layer.11.attention.self.query.bias                                  torch.Size([768])              torch.float32 False\n",
      "bert.encoder.layer.11.attention.self.key.weight                                  torch.Size([768, 768])         torch.float32 False\n",
      "bert.encoder.layer.11.attention.self.key.bias                                    torch.Size([768])              torch.float32 False\n",
      "bert.encoder.layer.11.attention.self.value.weight                                torch.Size([768, 768])         torch.float32 False\n",
      "bert.encoder.layer.11.attention.self.value.bias                                  torch.Size([768])              torch.float32 False\n",
      "bert.encoder.layer.11.attention.output.dense.weight                              torch.Size([768, 768])         torch.float32 False\n",
      "bert.encoder.layer.11.attention.output.dense.bias                                torch.Size([768])              torch.float32 False\n",
      "bert.encoder.layer.11.attention.output.LayerNorm.weight                          torch.Size([768])              torch.float32 False\n",
      "bert.encoder.layer.11.attention.output.LayerNorm.bias                            torch.Size([768])              torch.float32 False\n",
      "bert.encoder.layer.11.intermediate.dense.weight                                  torch.Size([3072, 768])        torch.float32 False\n",
      "bert.encoder.layer.11.intermediate.dense.bias                                    torch.Size([3072])             torch.float32 False\n",
      "bert.encoder.layer.11.output.dense.weight                                        torch.Size([768, 3072])        torch.float32 False\n",
      "bert.encoder.layer.11.output.dense.bias                                          torch.Size([768])              torch.float32 False\n",
      "bert.encoder.layer.11.output.LayerNorm.weight                                    torch.Size([768])              torch.float32 False\n",
      "bert.encoder.layer.11.output.LayerNorm.bias                                      torch.Size([768])              torch.float32 False\n",
      "bert.pooler.dense.weight                                                         torch.Size([768, 768])         torch.float32 False\n",
      "bert.pooler.dense.bias                                                           torch.Size([768])              torch.float32 False\n",
      "classifier.weight                                                                torch.Size([5, 768])           torch.float32 False\n",
      "classifier.bias                                                                  torch.Size([5])                torch.float32 False\n"
     ]
    }
   ],
   "source": [
    "model = AutoModelForSequenceClassification.from_pretrained(\"google-bert/bert-base-cased\", num_labels=5)\n",
    "\n",
    "for name, param in model.named_parameters():\n",
    "    print(f\"{name:80s} {str(param.shape):30s} {param.dtype} {param.is_cuda}\")"
   ]
  },
  {
   "cell_type": "markdown",
   "id": "cb3c45b5-0075-4c5e-a032-74d618ad2880",
   "metadata": {},
   "source": [
    "メトリクスの計算関数を定義。メトリクスには [acculacy](https://huggingface.co/spaces/evaluate-metric/accuracy) を利用する。"
   ]
  },
  {
   "cell_type": "code",
   "execution_count": 8,
   "id": "c6eb4fa3-32ac-4b9d-93bc-87379e2b2c26",
   "metadata": {},
   "outputs": [],
   "source": [
    "import numpy as np\n",
    "import evaluate\n",
    "\n",
    "metric = evaluate.load(\"accuracy\")"
   ]
  },
  {
   "cell_type": "code",
   "execution_count": 9,
   "id": "74f0589a-9cb8-483e-80c6-5f2bb10a5064",
   "metadata": {},
   "outputs": [],
   "source": [
    "def compute_metrics(eval_pred):\n",
    "    logits, labels = eval_pred\n",
    "    print(\"logits\", logits[0:10])\n",
    "    predictions = np.argmax(logits, axis=-1)\n",
    "    print(\"predictions:\", predictions[0:10])\n",
    "    print(\"references:\", labels[0:10])\n",
    "    return metric.compute(predictions=predictions, references=labels)"
   ]
  },
  {
   "cell_type": "markdown",
   "id": "42bf70da-80d2-4d58-bc3f-a5c212a77a32",
   "metadata": {},
   "source": [
    "Trainerの引数を作成\n",
    "* 結果を `test_trainer` ディレクトリに確認\n",
    "* `epoch` ベース(学習の進行がある程度進んだら)で、評価を実行"
   ]
  },
  {
   "cell_type": "code",
   "execution_count": 10,
   "id": "2bdebed6-df91-4f3c-b173-c2f153f2523f",
   "metadata": {},
   "outputs": [],
   "source": [
    "training_args = TrainingArguments(output_dir=\"test_trainer\", eval_strategy=\"epoch\")"
   ]
  },
  {
   "cell_type": "markdown",
   "id": "a57051df-30cd-4c37-9c28-595ed0b4f64c",
   "metadata": {},
   "source": [
    "学習≒ファインチューニング実行"
   ]
  },
  {
   "cell_type": "code",
   "execution_count": 11,
   "id": "099e7599-9579-4e2a-89a2-d69b196a6981",
   "metadata": {},
   "outputs": [],
   "source": [
    "trainer = Trainer(\n",
    "    model=model,\n",
    "    args=training_args,\n",
    "    train_dataset=small_train_dataset,\n",
    "    eval_dataset=small_eval_dataset,\n",
    "    compute_metrics=compute_metrics,\n",
    ")"
   ]
  },
  {
   "cell_type": "code",
   "execution_count": 12,
   "id": "1f000a07-c129-4eba-a1cf-757cf4489bd2",
   "metadata": {},
   "outputs": [
    {
     "name": "stderr",
     "output_type": "stream",
     "text": [
      "D:\\Python\\Python311\\Lib\\site-packages\\transformers\\models\\bert\\modeling_bert.py:435: UserWarning: 1Torch was not compiled with flash attention. (Triggered internally at ..\\aten\\src\\ATen\\native\\transformers\\cuda\\sdp_utils.cpp:455.)\n",
      "  attn_output = torch.nn.functional.scaled_dot_product_attention(\n"
     ]
    },
    {
     "data": {
      "text/html": [
       "\n",
       "    <div>\n",
       "      \n",
       "      <progress value='375' max='375' style='width:300px; height:20px; vertical-align: middle;'></progress>\n",
       "      [375/375 01:48, Epoch 3/3]\n",
       "    </div>\n",
       "    <table border=\"1\" class=\"dataframe\">\n",
       "  <thead>\n",
       " <tr style=\"text-align: left;\">\n",
       "      <th>Epoch</th>\n",
       "      <th>Training Loss</th>\n",
       "      <th>Validation Loss</th>\n",
       "      <th>Accuracy</th>\n",
       "    </tr>\n",
       "  </thead>\n",
       "  <tbody>\n",
       "    <tr>\n",
       "      <td>1</td>\n",
       "      <td>No log</td>\n",
       "      <td>1.186469</td>\n",
       "      <td>0.524000</td>\n",
       "    </tr>\n",
       "    <tr>\n",
       "      <td>2</td>\n",
       "      <td>No log</td>\n",
       "      <td>1.116050</td>\n",
       "      <td>0.521000</td>\n",
       "    </tr>\n",
       "    <tr>\n",
       "      <td>3</td>\n",
       "      <td>No log</td>\n",
       "      <td>1.009289</td>\n",
       "      <td>0.567000</td>\n",
       "    </tr>\n",
       "  </tbody>\n",
       "</table><p>"
      ],
      "text/plain": [
       "<IPython.core.display.HTML object>"
      ]
     },
     "metadata": {},
     "output_type": "display_data"
    },
    {
     "name": "stdout",
     "output_type": "stream",
     "text": [
      "logits [[-0.93449664 -0.9713814  -0.60252225  0.8732902   0.98570895]\n",
      " [-1.5720049  -0.87890637  0.5544452   1.4727589   0.21361467]\n",
      " [ 0.49420854  0.41460916  0.01131687 -0.63021266 -1.0580003 ]\n",
      " [-1.4877151  -1.0188559   0.08496182  1.3169426   0.52965707]\n",
      " [-1.3845254  -0.62241495  0.71626604  1.342631   -0.07601081]\n",
      " [-0.48736817 -0.94748807 -1.0185044   0.559435    1.0794078 ]\n",
      " [ 0.38069475  0.6131936   0.2743285  -0.35604873 -1.3995923 ]\n",
      " [-1.3487667  -0.99230945  0.14259902  1.2253498   0.4714005 ]\n",
      " [-1.3784069  -0.6757421   0.33992442  1.2012279   0.17523302]\n",
      " [-1.3365096  -0.601864    0.3648278   1.2511451  -0.03756431]]\n",
      "predictions: [4 3 0 3 3 4 1 3 3 3]\n",
      "references: [2 4 1 4 3 4 2 3 2 3]\n",
      "logits [[-1.5863048  -1.4078939  -0.84005666  1.1638777   1.8756113 ]\n",
      " [-2.659988   -0.922395    0.8436172   1.7458456   0.898182  ]\n",
      " [ 2.8785102   0.3616666  -0.6105196  -1.5433638  -1.2276707 ]\n",
      " [-2.099514   -1.3899739  -0.31696904  1.6079485   1.6714926 ]\n",
      " [-2.2842567  -1.2317963  -0.00803845  1.5928366   1.4947714 ]\n",
      " [-1.3349283  -1.5172186  -1.04169     1.009994    2.0480416 ]\n",
      " [-0.9400219   0.5727604   0.9625885   0.13162473 -1.4342947 ]\n",
      " [-2.196593   -1.3871636  -0.13868284  1.6476145   1.58897   ]\n",
      " [-2.3837485  -1.0468051   0.2433745   1.6742697   1.2434114 ]\n",
      " [-2.758636   -0.8002356   0.80924106  1.7772515   0.73569065]]\n",
      "predictions: [4 3 0 4 3 4 2 3 3 3]\n",
      "references: [2 4 1 4 3 4 2 3 2 3]\n",
      "logits [[-1.3521944  -1.231404   -1.2054543   1.0755337   1.7194297 ]\n",
      " [-3.2291212  -0.6102105   1.6691824   2.2886474  -0.42367187]\n",
      " [ 3.1507134   0.57895124 -0.73230803 -1.8364587  -1.1885223 ]\n",
      " [-2.0462904  -1.6482887  -0.8488174   1.6983632   1.9303652 ]\n",
      " [-2.903874   -1.0668305   0.5773635   2.376543    0.75586814]\n",
      " [-1.1386528  -1.4614854  -1.3876575   0.88152945  2.1772752 ]\n",
      " [-1.7109072   1.7056646   2.242851   -0.02166503 -1.7211167 ]\n",
      " [-2.3931487  -1.441521   -0.3517155   2.0151231   1.3758748 ]\n",
      " [-2.7922745  -1.0055857   0.19733463  2.2302315   0.80993265]\n",
      " [-3.3810437  -0.4488076   1.2484527   2.4270957  -0.21250014]]\n",
      "predictions: [4 3 0 4 3 4 2 3 3 3]\n",
      "references: [2 4 1 4 3 4 2 3 2 3]\n",
      "CPU times: total: 1min 18s\n",
      "Wall time: 1min 48s\n"
     ]
    },
    {
     "data": {
      "text/plain": [
       "TrainOutput(global_step=375, training_loss=1.1024170735677083, metrics={'train_runtime': 108.765, 'train_samples_per_second': 27.582, 'train_steps_per_second': 3.448, 'total_flos': 789354427392000.0, 'train_loss': 1.1024170735677083, 'epoch': 3.0})"
      ]
     },
     "execution_count": 12,
     "metadata": {},
     "output_type": "execute_result"
    }
   ],
   "source": [
    "%%time\n",
    "trainer.train()"
   ]
  }
 ],
 "metadata": {
  "kernelspec": {
   "display_name": "Python 3 (ipykernel)",
   "language": "python",
   "name": "python3"
  },
  "language_info": {
   "codemirror_mode": {
    "name": "ipython",
    "version": 3
   },
   "file_extension": ".py",
   "mimetype": "text/x-python",
   "name": "python",
   "nbconvert_exporter": "python",
   "pygments_lexer": "ipython3",
   "version": "3.11.5"
  }
 },
 "nbformat": 4,
 "nbformat_minor": 5
}
