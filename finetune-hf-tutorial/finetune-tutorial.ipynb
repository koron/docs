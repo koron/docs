{
 "cells": [
  {
   "cell_type": "markdown",
   "id": "4db21b62-22a9-46e3-9bb6-cf1a62614c71",
   "metadata": {},
   "source": [
    "# Finetune (training) Hands-on\n",
    "\n",
    "<https://huggingface.co/docs/transformers/ja/training>"
   ]
  },
  {
   "cell_type": "code",
   "execution_count": 1,
   "id": "0303b0ef-5b85-4252-a4e0-8eee8a6801b1",
   "metadata": {},
   "outputs": [],
   "source": [
    "from datasets import load_dataset\n",
    "from transformers import AutoTokenizer"
   ]
  },
  {
   "cell_type": "markdown",
   "id": "cded224a-cf92-4a5d-9076-598f04085f85",
   "metadata": {},
   "source": [
    "## Preparing dataset"
   ]
  },
  {
   "cell_type": "markdown",
   "id": "f1255cac-219f-4872-86bd-e49eea92937a",
   "metadata": {},
   "source": [
    "データセットを読み込む。データセットは [YelpReviewFull](https://huggingface.co/datasets/Yelp/yelp_review_full) でローカルビジネスのレビューとその点数。"
   ]
  },
  {
   "cell_type": "code",
   "execution_count": 2,
   "id": "f8b76a2f-43ce-49d1-83de-628716412a4f",
   "metadata": {
    "scrolled": true
   },
   "outputs": [
    {
     "data": {
      "text/plain": [
       "{'label': 0,\n",
       " 'text': 'My expectations for McDonalds are t rarely high. But for one to still fail so spectacularly...that takes something special!\\\\nThe cashier took my friends\\'s order, then promptly ignored me. I had to force myself in front of a cashier who opened his register to wait on the person BEHIND me. I waited over five minutes for a gigantic order that included precisely one kid\\'s meal. After watching two people who ordered after me be handed their food, I asked where mine was. The manager started yelling at the cashiers for \\\\\"serving off their orders\\\\\" when they didn\\'t have their food. But neither cashier was anywhere near those controls, and the manager was the one serving food to customers and clearing the boards.\\\\nThe manager was rude when giving me my order. She didn\\'t make sure that I had everything ON MY RECEIPT, and never even had the decency to apologize that I felt I was getting poor service.\\\\nI\\'ve eaten at various McDonalds restaurants for over 30 years. I\\'ve worked at more than one location. I expect bad days, bad moods, and the occasional mistake. But I have yet to have a decent experience at this store. It will remain a place I avoid unless someone in my party needs to avoid illness from low blood sugar. Perhaps I should go back to the racially biased service of Steak n Shake instead!'}"
      ]
     },
     "execution_count": 2,
     "metadata": {},
     "output_type": "execute_result"
    }
   ],
   "source": [
    "dataset = load_dataset(\"yelp_review_full\")\n",
    "dataset[\"train\"][100]"
   ]
  },
  {
   "cell_type": "markdown",
   "id": "8c29d71c-f41e-4282-88b5-ce0874761b09",
   "metadata": {},
   "source": [
    "トークナイザ(BERTより)を準備"
   ]
  },
  {
   "cell_type": "code",
   "execution_count": 3,
   "id": "0de2e191-356b-4ca7-b009-b05f3ab36cd8",
   "metadata": {},
   "outputs": [
    {
     "name": "stderr",
     "output_type": "stream",
     "text": [
      "D:\\Python\\Python311\\Lib\\site-packages\\transformers\\tokenization_utils_base.py:1601: FutureWarning: `clean_up_tokenization_spaces` was not set. It will be set to `True` by default. This behavior will be depracted in transformers v4.45, and will be then set to `False` by default. For more details check this issue: https://github.com/huggingface/transformers/issues/31884\n",
      "  warnings.warn(\n"
     ]
    }
   ],
   "source": [
    "tokenizer = AutoTokenizer.from_pretrained(\"google-bert/bert-base-cased\")"
   ]
  },
  {
   "cell_type": "markdown",
   "id": "aae24d99-c847-4849-9be7-e9403afbe30c",
   "metadata": {},
   "source": [
    "データセットをあらかじめトークナイズしちゃう"
   ]
  },
  {
   "cell_type": "code",
   "execution_count": 4,
   "id": "ad0011f5-2fff-4efc-8218-05d8c53dfa3f",
   "metadata": {},
   "outputs": [],
   "source": [
    "def tokenize_function(examples):\n",
    "    return tokenizer(examples[\"text\"], padding=\"max_length\", truncation=True)\n",
    "\n",
    "tokenized_datasets = dataset.map(tokenize_function, batched=True)"
   ]
  },
  {
   "cell_type": "markdown",
   "id": "917a0c8f-5ffb-4648-beed-264a291fea72",
   "metadata": {},
   "source": [
    "実行時間を短くするために、サブセットで学習&評価する"
   ]
  },
  {
   "cell_type": "code",
   "execution_count": 5,
   "id": "43acd3fe-682c-48ec-99cb-b5fe11b2e0f9",
   "metadata": {},
   "outputs": [],
   "source": [
    "small_train_dataset = tokenized_datasets[\"train\"].shuffle(seed=42).select(range(1000))\n",
    "small_eval_dataset = tokenized_datasets[\"test\"].shuffle(seed=42).select(range(1000))"
   ]
  },
  {
   "cell_type": "markdown",
   "id": "b7a7f3bf-0570-47b4-a4d4-8adbcb0650d1",
   "metadata": {},
   "source": [
    "## Train with Pytorch Trainer"
   ]
  },
  {
   "cell_type": "code",
   "execution_count": 6,
   "id": "43dbf5ae-8ee6-4069-bc1f-f11b006e3617",
   "metadata": {},
   "outputs": [
    {
     "name": "stdout",
     "output_type": "stream",
     "text": [
      "WARNING:tensorflow:From D:\\Python\\Python311\\Lib\\site-packages\\tf_keras\\src\\losses.py:2976: The name tf.losses.sparse_softmax_cross_entropy is deprecated. Please use tf.compat.v1.losses.sparse_softmax_cross_entropy instead.\n",
      "\n"
     ]
    }
   ],
   "source": [
    "from transformers import AutoModelForSequenceClassification\n",
    "from transformers import TrainingArguments, Trainer"
   ]
  },
  {
   "cell_type": "markdown",
   "id": "20fddecf-b63b-4b0a-b953-9cc2f4a1dc9d",
   "metadata": {},
   "source": [
    "モデル: Google BERT を読み込む。FP32でGPUへ読み込まれる。"
   ]
  },
  {
   "cell_type": "code",
   "execution_count": 7,
   "id": "b6c1c238-850b-40dd-bb73-78253e2dbf77",
   "metadata": {
    "scrolled": true
   },
   "outputs": [
    {
     "name": "stderr",
     "output_type": "stream",
     "text": [
      "A parameter name that contains `beta` will be renamed internally to `bias`. Please use a different name to suppress this warning.\n",
      "A parameter name that contains `gamma` will be renamed internally to `weight`. Please use a different name to suppress this warning.\n",
      "A parameter name that contains `beta` will be renamed internally to `bias`. Please use a different name to suppress this warning.\n",
      "A parameter name that contains `gamma` will be renamed internally to `weight`. Please use a different name to suppress this warning.\n",
      "A parameter name that contains `beta` will be renamed internally to `bias`. Please use a different name to suppress this warning.\n",
      "A parameter name that contains `gamma` will be renamed internally to `weight`. Please use a different name to suppress this warning.\n",
      "A parameter name that contains `beta` will be renamed internally to `bias`. Please use a different name to suppress this warning.\n",
      "A parameter name that contains `gamma` will be renamed internally to `weight`. Please use a different name to suppress this warning.\n",
      "A parameter name that contains `beta` will be renamed internally to `bias`. Please use a different name to suppress this warning.\n",
      "A parameter name that contains `gamma` will be renamed internally to `weight`. Please use a different name to suppress this warning.\n",
      "A parameter name that contains `beta` will be renamed internally to `bias`. Please use a different name to suppress this warning.\n",
      "A parameter name that contains `gamma` will be renamed internally to `weight`. Please use a different name to suppress this warning.\n",
      "A parameter name that contains `beta` will be renamed internally to `bias`. Please use a different name to suppress this warning.\n",
      "A parameter name that contains `gamma` will be renamed internally to `weight`. Please use a different name to suppress this warning.\n",
      "A parameter name that contains `beta` will be renamed internally to `bias`. Please use a different name to suppress this warning.\n",
      "A parameter name that contains `gamma` will be renamed internally to `weight`. Please use a different name to suppress this warning.\n",
      "A parameter name that contains `beta` will be renamed internally to `bias`. Please use a different name to suppress this warning.\n",
      "A parameter name that contains `gamma` will be renamed internally to `weight`. Please use a different name to suppress this warning.\n",
      "A parameter name that contains `beta` will be renamed internally to `bias`. Please use a different name to suppress this warning.\n",
      "A parameter name that contains `gamma` will be renamed internally to `weight`. Please use a different name to suppress this warning.\n",
      "A parameter name that contains `beta` will be renamed internally to `bias`. Please use a different name to suppress this warning.\n",
      "A parameter name that contains `gamma` will be renamed internally to `weight`. Please use a different name to suppress this warning.\n",
      "A parameter name that contains `beta` will be renamed internally to `bias`. Please use a different name to suppress this warning.\n",
      "A parameter name that contains `gamma` will be renamed internally to `weight`. Please use a different name to suppress this warning.\n",
      "A parameter name that contains `beta` will be renamed internally to `bias`. Please use a different name to suppress this warning.\n",
      "A parameter name that contains `gamma` will be renamed internally to `weight`. Please use a different name to suppress this warning.\n",
      "A parameter name that contains `beta` will be renamed internally to `bias`. Please use a different name to suppress this warning.\n",
      "A parameter name that contains `gamma` will be renamed internally to `weight`. Please use a different name to suppress this warning.\n",
      "A parameter name that contains `beta` will be renamed internally to `bias`. Please use a different name to suppress this warning.\n",
      "A parameter name that contains `gamma` will be renamed internally to `weight`. Please use a different name to suppress this warning.\n",
      "A parameter name that contains `beta` will be renamed internally to `bias`. Please use a different name to suppress this warning.\n",
      "A parameter name that contains `gamma` will be renamed internally to `weight`. Please use a different name to suppress this warning.\n",
      "A parameter name that contains `beta` will be renamed internally to `bias`. Please use a different name to suppress this warning.\n",
      "A parameter name that contains `gamma` will be renamed internally to `weight`. Please use a different name to suppress this warning.\n",
      "A parameter name that contains `beta` will be renamed internally to `bias`. Please use a different name to suppress this warning.\n",
      "A parameter name that contains `gamma` will be renamed internally to `weight`. Please use a different name to suppress this warning.\n",
      "A parameter name that contains `beta` will be renamed internally to `bias`. Please use a different name to suppress this warning.\n",
      "A parameter name that contains `gamma` will be renamed internally to `weight`. Please use a different name to suppress this warning.\n",
      "A parameter name that contains `beta` will be renamed internally to `bias`. Please use a different name to suppress this warning.\n",
      "A parameter name that contains `gamma` will be renamed internally to `weight`. Please use a different name to suppress this warning.\n",
      "A parameter name that contains `beta` will be renamed internally to `bias`. Please use a different name to suppress this warning.\n",
      "A parameter name that contains `gamma` will be renamed internally to `weight`. Please use a different name to suppress this warning.\n",
      "A parameter name that contains `beta` will be renamed internally to `bias`. Please use a different name to suppress this warning.\n",
      "A parameter name that contains `gamma` will be renamed internally to `weight`. Please use a different name to suppress this warning.\n",
      "A parameter name that contains `beta` will be renamed internally to `bias`. Please use a different name to suppress this warning.\n",
      "A parameter name that contains `gamma` will be renamed internally to `weight`. Please use a different name to suppress this warning.\n",
      "A parameter name that contains `beta` will be renamed internally to `bias`. Please use a different name to suppress this warning.\n",
      "A parameter name that contains `gamma` will be renamed internally to `weight`. Please use a different name to suppress this warning.\n",
      "A parameter name that contains `beta` will be renamed internally to `bias`. Please use a different name to suppress this warning.\n",
      "A parameter name that contains `gamma` will be renamed internally to `weight`. Please use a different name to suppress this warning.\n",
      "A parameter name that contains `beta` will be renamed internally to `bias`. Please use a different name to suppress this warning.\n",
      "A parameter name that contains `gamma` will be renamed internally to `weight`. Please use a different name to suppress this warning.\n",
      "Some weights of BertForSequenceClassification were not initialized from the model checkpoint at google-bert/bert-base-cased and are newly initialized: ['classifier.bias', 'classifier.weight']\n",
      "You should probably TRAIN this model on a down-stream task to be able to use it for predictions and inference.\n"
     ]
    },
    {
     "name": "stdout",
     "output_type": "stream",
     "text": [
      "bert.embeddings.word_embeddings.weight                                           torch.Size([28996, 768])       torch.float32 False\n",
      "bert.embeddings.position_embeddings.weight                                       torch.Size([512, 768])         torch.float32 False\n",
      "bert.embeddings.token_type_embeddings.weight                                     torch.Size([2, 768])           torch.float32 False\n",
      "bert.embeddings.LayerNorm.weight                                                 torch.Size([768])              torch.float32 False\n",
      "bert.embeddings.LayerNorm.bias                                                   torch.Size([768])              torch.float32 False\n",
      "bert.encoder.layer.0.attention.self.query.weight                                 torch.Size([768, 768])         torch.float32 False\n",
      "bert.encoder.layer.0.attention.self.query.bias                                   torch.Size([768])              torch.float32 False\n",
      "bert.encoder.layer.0.attention.self.key.weight                                   torch.Size([768, 768])         torch.float32 False\n",
      "bert.encoder.layer.0.attention.self.key.bias                                     torch.Size([768])              torch.float32 False\n",
      "bert.encoder.layer.0.attention.self.value.weight                                 torch.Size([768, 768])         torch.float32 False\n",
      "bert.encoder.layer.0.attention.self.value.bias                                   torch.Size([768])              torch.float32 False\n",
      "bert.encoder.layer.0.attention.output.dense.weight                               torch.Size([768, 768])         torch.float32 False\n",
      "bert.encoder.layer.0.attention.output.dense.bias                                 torch.Size([768])              torch.float32 False\n",
      "bert.encoder.layer.0.attention.output.LayerNorm.weight                           torch.Size([768])              torch.float32 False\n",
      "bert.encoder.layer.0.attention.output.LayerNorm.bias                             torch.Size([768])              torch.float32 False\n",
      "bert.encoder.layer.0.intermediate.dense.weight                                   torch.Size([3072, 768])        torch.float32 False\n",
      "bert.encoder.layer.0.intermediate.dense.bias                                     torch.Size([3072])             torch.float32 False\n",
      "bert.encoder.layer.0.output.dense.weight                                         torch.Size([768, 3072])        torch.float32 False\n",
      "bert.encoder.layer.0.output.dense.bias                                           torch.Size([768])              torch.float32 False\n",
      "bert.encoder.layer.0.output.LayerNorm.weight                                     torch.Size([768])              torch.float32 False\n",
      "bert.encoder.layer.0.output.LayerNorm.bias                                       torch.Size([768])              torch.float32 False\n",
      "bert.encoder.layer.1.attention.self.query.weight                                 torch.Size([768, 768])         torch.float32 False\n",
      "bert.encoder.layer.1.attention.self.query.bias                                   torch.Size([768])              torch.float32 False\n",
      "bert.encoder.layer.1.attention.self.key.weight                                   torch.Size([768, 768])         torch.float32 False\n",
      "bert.encoder.layer.1.attention.self.key.bias                                     torch.Size([768])              torch.float32 False\n",
      "bert.encoder.layer.1.attention.self.value.weight                                 torch.Size([768, 768])         torch.float32 False\n",
      "bert.encoder.layer.1.attention.self.value.bias                                   torch.Size([768])              torch.float32 False\n",
      "bert.encoder.layer.1.attention.output.dense.weight                               torch.Size([768, 768])         torch.float32 False\n",
      "bert.encoder.layer.1.attention.output.dense.bias                                 torch.Size([768])              torch.float32 False\n",
      "bert.encoder.layer.1.attention.output.LayerNorm.weight                           torch.Size([768])              torch.float32 False\n",
      "bert.encoder.layer.1.attention.output.LayerNorm.bias                             torch.Size([768])              torch.float32 False\n",
      "bert.encoder.layer.1.intermediate.dense.weight                                   torch.Size([3072, 768])        torch.float32 False\n",
      "bert.encoder.layer.1.intermediate.dense.bias                                     torch.Size([3072])             torch.float32 False\n",
      "bert.encoder.layer.1.output.dense.weight                                         torch.Size([768, 3072])        torch.float32 False\n",
      "bert.encoder.layer.1.output.dense.bias                                           torch.Size([768])              torch.float32 False\n",
      "bert.encoder.layer.1.output.LayerNorm.weight                                     torch.Size([768])              torch.float32 False\n",
      "bert.encoder.layer.1.output.LayerNorm.bias                                       torch.Size([768])              torch.float32 False\n",
      "bert.encoder.layer.2.attention.self.query.weight                                 torch.Size([768, 768])         torch.float32 False\n",
      "bert.encoder.layer.2.attention.self.query.bias                                   torch.Size([768])              torch.float32 False\n",
      "bert.encoder.layer.2.attention.self.key.weight                                   torch.Size([768, 768])         torch.float32 False\n",
      "bert.encoder.layer.2.attention.self.key.bias                                     torch.Size([768])              torch.float32 False\n",
      "bert.encoder.layer.2.attention.self.value.weight                                 torch.Size([768, 768])         torch.float32 False\n",
      "bert.encoder.layer.2.attention.self.value.bias                                   torch.Size([768])              torch.float32 False\n",
      "bert.encoder.layer.2.attention.output.dense.weight                               torch.Size([768, 768])         torch.float32 False\n",
      "bert.encoder.layer.2.attention.output.dense.bias                                 torch.Size([768])              torch.float32 False\n",
      "bert.encoder.layer.2.attention.output.LayerNorm.weight                           torch.Size([768])              torch.float32 False\n",
      "bert.encoder.layer.2.attention.output.LayerNorm.bias                             torch.Size([768])              torch.float32 False\n",
      "bert.encoder.layer.2.intermediate.dense.weight                                   torch.Size([3072, 768])        torch.float32 False\n",
      "bert.encoder.layer.2.intermediate.dense.bias                                     torch.Size([3072])             torch.float32 False\n",
      "bert.encoder.layer.2.output.dense.weight                                         torch.Size([768, 3072])        torch.float32 False\n",
      "bert.encoder.layer.2.output.dense.bias                                           torch.Size([768])              torch.float32 False\n",
      "bert.encoder.layer.2.output.LayerNorm.weight                                     torch.Size([768])              torch.float32 False\n",
      "bert.encoder.layer.2.output.LayerNorm.bias                                       torch.Size([768])              torch.float32 False\n",
      "bert.encoder.layer.3.attention.self.query.weight                                 torch.Size([768, 768])         torch.float32 False\n",
      "bert.encoder.layer.3.attention.self.query.bias                                   torch.Size([768])              torch.float32 False\n",
      "bert.encoder.layer.3.attention.self.key.weight                                   torch.Size([768, 768])         torch.float32 False\n",
      "bert.encoder.layer.3.attention.self.key.bias                                     torch.Size([768])              torch.float32 False\n",
      "bert.encoder.layer.3.attention.self.value.weight                                 torch.Size([768, 768])         torch.float32 False\n",
      "bert.encoder.layer.3.attention.self.value.bias                                   torch.Size([768])              torch.float32 False\n",
      "bert.encoder.layer.3.attention.output.dense.weight                               torch.Size([768, 768])         torch.float32 False\n",
      "bert.encoder.layer.3.attention.output.dense.bias                                 torch.Size([768])              torch.float32 False\n",
      "bert.encoder.layer.3.attention.output.LayerNorm.weight                           torch.Size([768])              torch.float32 False\n",
      "bert.encoder.layer.3.attention.output.LayerNorm.bias                             torch.Size([768])              torch.float32 False\n",
      "bert.encoder.layer.3.intermediate.dense.weight                                   torch.Size([3072, 768])        torch.float32 False\n",
      "bert.encoder.layer.3.intermediate.dense.bias                                     torch.Size([3072])             torch.float32 False\n",
      "bert.encoder.layer.3.output.dense.weight                                         torch.Size([768, 3072])        torch.float32 False\n",
      "bert.encoder.layer.3.output.dense.bias                                           torch.Size([768])              torch.float32 False\n",
      "bert.encoder.layer.3.output.LayerNorm.weight                                     torch.Size([768])              torch.float32 False\n",
      "bert.encoder.layer.3.output.LayerNorm.bias                                       torch.Size([768])              torch.float32 False\n",
      "bert.encoder.layer.4.attention.self.query.weight                                 torch.Size([768, 768])         torch.float32 False\n",
      "bert.encoder.layer.4.attention.self.query.bias                                   torch.Size([768])              torch.float32 False\n",
      "bert.encoder.layer.4.attention.self.key.weight                                   torch.Size([768, 768])         torch.float32 False\n",
      "bert.encoder.layer.4.attention.self.key.bias                                     torch.Size([768])              torch.float32 False\n",
      "bert.encoder.layer.4.attention.self.value.weight                                 torch.Size([768, 768])         torch.float32 False\n",
      "bert.encoder.layer.4.attention.self.value.bias                                   torch.Size([768])              torch.float32 False\n",
      "bert.encoder.layer.4.attention.output.dense.weight                               torch.Size([768, 768])         torch.float32 False\n",
      "bert.encoder.layer.4.attention.output.dense.bias                                 torch.Size([768])              torch.float32 False\n",
      "bert.encoder.layer.4.attention.output.LayerNorm.weight                           torch.Size([768])              torch.float32 False\n",
      "bert.encoder.layer.4.attention.output.LayerNorm.bias                             torch.Size([768])              torch.float32 False\n",
      "bert.encoder.layer.4.intermediate.dense.weight                                   torch.Size([3072, 768])        torch.float32 False\n",
      "bert.encoder.layer.4.intermediate.dense.bias                                     torch.Size([3072])             torch.float32 False\n",
      "bert.encoder.layer.4.output.dense.weight                                         torch.Size([768, 3072])        torch.float32 False\n",
      "bert.encoder.layer.4.output.dense.bias                                           torch.Size([768])              torch.float32 False\n",
      "bert.encoder.layer.4.output.LayerNorm.weight                                     torch.Size([768])              torch.float32 False\n",
      "bert.encoder.layer.4.output.LayerNorm.bias                                       torch.Size([768])              torch.float32 False\n",
      "bert.encoder.layer.5.attention.self.query.weight                                 torch.Size([768, 768])         torch.float32 False\n",
      "bert.encoder.layer.5.attention.self.query.bias                                   torch.Size([768])              torch.float32 False\n",
      "bert.encoder.layer.5.attention.self.key.weight                                   torch.Size([768, 768])         torch.float32 False\n",
      "bert.encoder.layer.5.attention.self.key.bias                                     torch.Size([768])              torch.float32 False\n",
      "bert.encoder.layer.5.attention.self.value.weight                                 torch.Size([768, 768])         torch.float32 False\n",
      "bert.encoder.layer.5.attention.self.value.bias                                   torch.Size([768])              torch.float32 False\n",
      "bert.encoder.layer.5.attention.output.dense.weight                               torch.Size([768, 768])         torch.float32 False\n",
      "bert.encoder.layer.5.attention.output.dense.bias                                 torch.Size([768])              torch.float32 False\n",
      "bert.encoder.layer.5.attention.output.LayerNorm.weight                           torch.Size([768])              torch.float32 False\n",
      "bert.encoder.layer.5.attention.output.LayerNorm.bias                             torch.Size([768])              torch.float32 False\n",
      "bert.encoder.layer.5.intermediate.dense.weight                                   torch.Size([3072, 768])        torch.float32 False\n",
      "bert.encoder.layer.5.intermediate.dense.bias                                     torch.Size([3072])             torch.float32 False\n",
      "bert.encoder.layer.5.output.dense.weight                                         torch.Size([768, 3072])        torch.float32 False\n",
      "bert.encoder.layer.5.output.dense.bias                                           torch.Size([768])              torch.float32 False\n",
      "bert.encoder.layer.5.output.LayerNorm.weight                                     torch.Size([768])              torch.float32 False\n",
      "bert.encoder.layer.5.output.LayerNorm.bias                                       torch.Size([768])              torch.float32 False\n",
      "bert.encoder.layer.6.attention.self.query.weight                                 torch.Size([768, 768])         torch.float32 False\n",
      "bert.encoder.layer.6.attention.self.query.bias                                   torch.Size([768])              torch.float32 False\n",
      "bert.encoder.layer.6.attention.self.key.weight                                   torch.Size([768, 768])         torch.float32 False\n",
      "bert.encoder.layer.6.attention.self.key.bias                                     torch.Size([768])              torch.float32 False\n",
      "bert.encoder.layer.6.attention.self.value.weight                                 torch.Size([768, 768])         torch.float32 False\n",
      "bert.encoder.layer.6.attention.self.value.bias                                   torch.Size([768])              torch.float32 False\n",
      "bert.encoder.layer.6.attention.output.dense.weight                               torch.Size([768, 768])         torch.float32 False\n",
      "bert.encoder.layer.6.attention.output.dense.bias                                 torch.Size([768])              torch.float32 False\n",
      "bert.encoder.layer.6.attention.output.LayerNorm.weight                           torch.Size([768])              torch.float32 False\n",
      "bert.encoder.layer.6.attention.output.LayerNorm.bias                             torch.Size([768])              torch.float32 False\n",
      "bert.encoder.layer.6.intermediate.dense.weight                                   torch.Size([3072, 768])        torch.float32 False\n",
      "bert.encoder.layer.6.intermediate.dense.bias                                     torch.Size([3072])             torch.float32 False\n",
      "bert.encoder.layer.6.output.dense.weight                                         torch.Size([768, 3072])        torch.float32 False\n",
      "bert.encoder.layer.6.output.dense.bias                                           torch.Size([768])              torch.float32 False\n",
      "bert.encoder.layer.6.output.LayerNorm.weight                                     torch.Size([768])              torch.float32 False\n",
      "bert.encoder.layer.6.output.LayerNorm.bias                                       torch.Size([768])              torch.float32 False\n",
      "bert.encoder.layer.7.attention.self.query.weight                                 torch.Size([768, 768])         torch.float32 False\n",
      "bert.encoder.layer.7.attention.self.query.bias                                   torch.Size([768])              torch.float32 False\n",
      "bert.encoder.layer.7.attention.self.key.weight                                   torch.Size([768, 768])         torch.float32 False\n",
      "bert.encoder.layer.7.attention.self.key.bias                                     torch.Size([768])              torch.float32 False\n",
      "bert.encoder.layer.7.attention.self.value.weight                                 torch.Size([768, 768])         torch.float32 False\n",
      "bert.encoder.layer.7.attention.self.value.bias                                   torch.Size([768])              torch.float32 False\n",
      "bert.encoder.layer.7.attention.output.dense.weight                               torch.Size([768, 768])         torch.float32 False\n",
      "bert.encoder.layer.7.attention.output.dense.bias                                 torch.Size([768])              torch.float32 False\n",
      "bert.encoder.layer.7.attention.output.LayerNorm.weight                           torch.Size([768])              torch.float32 False\n",
      "bert.encoder.layer.7.attention.output.LayerNorm.bias                             torch.Size([768])              torch.float32 False\n",
      "bert.encoder.layer.7.intermediate.dense.weight                                   torch.Size([3072, 768])        torch.float32 False\n",
      "bert.encoder.layer.7.intermediate.dense.bias                                     torch.Size([3072])             torch.float32 False\n",
      "bert.encoder.layer.7.output.dense.weight                                         torch.Size([768, 3072])        torch.float32 False\n",
      "bert.encoder.layer.7.output.dense.bias                                           torch.Size([768])              torch.float32 False\n",
      "bert.encoder.layer.7.output.LayerNorm.weight                                     torch.Size([768])              torch.float32 False\n",
      "bert.encoder.layer.7.output.LayerNorm.bias                                       torch.Size([768])              torch.float32 False\n",
      "bert.encoder.layer.8.attention.self.query.weight                                 torch.Size([768, 768])         torch.float32 False\n",
      "bert.encoder.layer.8.attention.self.query.bias                                   torch.Size([768])              torch.float32 False\n",
      "bert.encoder.layer.8.attention.self.key.weight                                   torch.Size([768, 768])         torch.float32 False\n",
      "bert.encoder.layer.8.attention.self.key.bias                                     torch.Size([768])              torch.float32 False\n",
      "bert.encoder.layer.8.attention.self.value.weight                                 torch.Size([768, 768])         torch.float32 False\n",
      "bert.encoder.layer.8.attention.self.value.bias                                   torch.Size([768])              torch.float32 False\n",
      "bert.encoder.layer.8.attention.output.dense.weight                               torch.Size([768, 768])         torch.float32 False\n",
      "bert.encoder.layer.8.attention.output.dense.bias                                 torch.Size([768])              torch.float32 False\n",
      "bert.encoder.layer.8.attention.output.LayerNorm.weight                           torch.Size([768])              torch.float32 False\n",
      "bert.encoder.layer.8.attention.output.LayerNorm.bias                             torch.Size([768])              torch.float32 False\n",
      "bert.encoder.layer.8.intermediate.dense.weight                                   torch.Size([3072, 768])        torch.float32 False\n",
      "bert.encoder.layer.8.intermediate.dense.bias                                     torch.Size([3072])             torch.float32 False\n",
      "bert.encoder.layer.8.output.dense.weight                                         torch.Size([768, 3072])        torch.float32 False\n",
      "bert.encoder.layer.8.output.dense.bias                                           torch.Size([768])              torch.float32 False\n",
      "bert.encoder.layer.8.output.LayerNorm.weight                                     torch.Size([768])              torch.float32 False\n",
      "bert.encoder.layer.8.output.LayerNorm.bias                                       torch.Size([768])              torch.float32 False\n",
      "bert.encoder.layer.9.attention.self.query.weight                                 torch.Size([768, 768])         torch.float32 False\n",
      "bert.encoder.layer.9.attention.self.query.bias                                   torch.Size([768])              torch.float32 False\n",
      "bert.encoder.layer.9.attention.self.key.weight                                   torch.Size([768, 768])         torch.float32 False\n",
      "bert.encoder.layer.9.attention.self.key.bias                                     torch.Size([768])              torch.float32 False\n",
      "bert.encoder.layer.9.attention.self.value.weight                                 torch.Size([768, 768])         torch.float32 False\n",
      "bert.encoder.layer.9.attention.self.value.bias                                   torch.Size([768])              torch.float32 False\n",
      "bert.encoder.layer.9.attention.output.dense.weight                               torch.Size([768, 768])         torch.float32 False\n",
      "bert.encoder.layer.9.attention.output.dense.bias                                 torch.Size([768])              torch.float32 False\n",
      "bert.encoder.layer.9.attention.output.LayerNorm.weight                           torch.Size([768])              torch.float32 False\n",
      "bert.encoder.layer.9.attention.output.LayerNorm.bias                             torch.Size([768])              torch.float32 False\n",
      "bert.encoder.layer.9.intermediate.dense.weight                                   torch.Size([3072, 768])        torch.float32 False\n",
      "bert.encoder.layer.9.intermediate.dense.bias                                     torch.Size([3072])             torch.float32 False\n",
      "bert.encoder.layer.9.output.dense.weight                                         torch.Size([768, 3072])        torch.float32 False\n",
      "bert.encoder.layer.9.output.dense.bias                                           torch.Size([768])              torch.float32 False\n",
      "bert.encoder.layer.9.output.LayerNorm.weight                                     torch.Size([768])              torch.float32 False\n",
      "bert.encoder.layer.9.output.LayerNorm.bias                                       torch.Size([768])              torch.float32 False\n",
      "bert.encoder.layer.10.attention.self.query.weight                                torch.Size([768, 768])         torch.float32 False\n",
      "bert.encoder.layer.10.attention.self.query.bias                                  torch.Size([768])              torch.float32 False\n",
      "bert.encoder.layer.10.attention.self.key.weight                                  torch.Size([768, 768])         torch.float32 False\n",
      "bert.encoder.layer.10.attention.self.key.bias                                    torch.Size([768])              torch.float32 False\n",
      "bert.encoder.layer.10.attention.self.value.weight                                torch.Size([768, 768])         torch.float32 False\n",
      "bert.encoder.layer.10.attention.self.value.bias                                  torch.Size([768])              torch.float32 False\n",
      "bert.encoder.layer.10.attention.output.dense.weight                              torch.Size([768, 768])         torch.float32 False\n",
      "bert.encoder.layer.10.attention.output.dense.bias                                torch.Size([768])              torch.float32 False\n",
      "bert.encoder.layer.10.attention.output.LayerNorm.weight                          torch.Size([768])              torch.float32 False\n",
      "bert.encoder.layer.10.attention.output.LayerNorm.bias                            torch.Size([768])              torch.float32 False\n",
      "bert.encoder.layer.10.intermediate.dense.weight                                  torch.Size([3072, 768])        torch.float32 False\n",
      "bert.encoder.layer.10.intermediate.dense.bias                                    torch.Size([3072])             torch.float32 False\n",
      "bert.encoder.layer.10.output.dense.weight                                        torch.Size([768, 3072])        torch.float32 False\n",
      "bert.encoder.layer.10.output.dense.bias                                          torch.Size([768])              torch.float32 False\n",
      "bert.encoder.layer.10.output.LayerNorm.weight                                    torch.Size([768])              torch.float32 False\n",
      "bert.encoder.layer.10.output.LayerNorm.bias                                      torch.Size([768])              torch.float32 False\n",
      "bert.encoder.layer.11.attention.self.query.weight                                torch.Size([768, 768])         torch.float32 False\n",
      "bert.encoder.layer.11.attention.self.query.bias                                  torch.Size([768])              torch.float32 False\n",
      "bert.encoder.layer.11.attention.self.key.weight                                  torch.Size([768, 768])         torch.float32 False\n",
      "bert.encoder.layer.11.attention.self.key.bias                                    torch.Size([768])              torch.float32 False\n",
      "bert.encoder.layer.11.attention.self.value.weight                                torch.Size([768, 768])         torch.float32 False\n",
      "bert.encoder.layer.11.attention.self.value.bias                                  torch.Size([768])              torch.float32 False\n",
      "bert.encoder.layer.11.attention.output.dense.weight                              torch.Size([768, 768])         torch.float32 False\n",
      "bert.encoder.layer.11.attention.output.dense.bias                                torch.Size([768])              torch.float32 False\n",
      "bert.encoder.layer.11.attention.output.LayerNorm.weight                          torch.Size([768])              torch.float32 False\n",
      "bert.encoder.layer.11.attention.output.LayerNorm.bias                            torch.Size([768])              torch.float32 False\n",
      "bert.encoder.layer.11.intermediate.dense.weight                                  torch.Size([3072, 768])        torch.float32 False\n",
      "bert.encoder.layer.11.intermediate.dense.bias                                    torch.Size([3072])             torch.float32 False\n",
      "bert.encoder.layer.11.output.dense.weight                                        torch.Size([768, 3072])        torch.float32 False\n",
      "bert.encoder.layer.11.output.dense.bias                                          torch.Size([768])              torch.float32 False\n",
      "bert.encoder.layer.11.output.LayerNorm.weight                                    torch.Size([768])              torch.float32 False\n",
      "bert.encoder.layer.11.output.LayerNorm.bias                                      torch.Size([768])              torch.float32 False\n",
      "bert.pooler.dense.weight                                                         torch.Size([768, 768])         torch.float32 False\n",
      "bert.pooler.dense.bias                                                           torch.Size([768])              torch.float32 False\n",
      "classifier.weight                                                                torch.Size([5, 768])           torch.float32 False\n",
      "classifier.bias                                                                  torch.Size([5])                torch.float32 False\n"
     ]
    }
   ],
   "source": [
    "model = AutoModelForSequenceClassification.from_pretrained(\"google-bert/bert-base-cased\", num_labels=5)\n",
    "\n",
    "for name, param in model.named_parameters():\n",
    "    print(f\"{name:80s} {str(param.shape):30s} {param.dtype} {param.is_cuda}\")"
   ]
  },
  {
   "cell_type": "markdown",
   "id": "cb3c45b5-0075-4c5e-a032-74d618ad2880",
   "metadata": {},
   "source": [
    "メトリクスの計算関数を定義。メトリクスには [acculacy](https://huggingface.co/spaces/evaluate-metric/accuracy) を利用する。"
   ]
  },
  {
   "cell_type": "code",
   "execution_count": 8,
   "id": "c6eb4fa3-32ac-4b9d-93bc-87379e2b2c26",
   "metadata": {},
   "outputs": [],
   "source": [
    "import numpy as np\n",
    "import evaluate\n",
    "\n",
    "metric = evaluate.load(\"accuracy\")"
   ]
  },
  {
   "cell_type": "code",
   "execution_count": 9,
   "id": "74f0589a-9cb8-483e-80c6-5f2bb10a5064",
   "metadata": {},
   "outputs": [],
   "source": [
    "def compute_metrics(eval_pred):\n",
    "    logits, labels = eval_pred\n",
    "    print(\"logits\", logits[0:10])\n",
    "    predictions = np.argmax(logits, axis=-1)\n",
    "    print(\"predictions:\", predictions[0:10])\n",
    "    print(\"references:\", labels[0:10])\n",
    "    return metric.compute(predictions=predictions, references=labels)"
   ]
  },
  {
   "cell_type": "markdown",
   "id": "42bf70da-80d2-4d58-bc3f-a5c212a77a32",
   "metadata": {},
   "source": [
    "Trainerの引数を作成\n",
    "* 結果を `test_trainer` ディレクトリに確認\n",
    "* `epoch` ベース(学習の進行がある程度進んだら)で、評価を実行"
   ]
  },
  {
   "cell_type": "code",
   "execution_count": 10,
   "id": "2bdebed6-df91-4f3c-b173-c2f153f2523f",
   "metadata": {},
   "outputs": [],
   "source": [
    "training_args = TrainingArguments(output_dir=\"test_trainer/tutorial\", eval_strategy=\"epoch\")"
   ]
  },
  {
   "cell_type": "markdown",
   "id": "a57051df-30cd-4c37-9c28-595ed0b4f64c",
   "metadata": {},
   "source": [
    "学習≒ファインチューニング実行"
   ]
  },
  {
   "cell_type": "code",
   "execution_count": 11,
   "id": "099e7599-9579-4e2a-89a2-d69b196a6981",
   "metadata": {},
   "outputs": [],
   "source": [
    "trainer = Trainer(\n",
    "    model=model,\n",
    "    args=training_args,\n",
    "    train_dataset=small_train_dataset,\n",
    "    eval_dataset=small_eval_dataset,\n",
    "    compute_metrics=compute_metrics,\n",
    ")"
   ]
  },
  {
   "cell_type": "code",
   "execution_count": 12,
   "id": "1f000a07-c129-4eba-a1cf-757cf4489bd2",
   "metadata": {},
   "outputs": [
    {
     "name": "stderr",
     "output_type": "stream",
     "text": [
      "D:\\Python\\Python311\\Lib\\site-packages\\transformers\\models\\bert\\modeling_bert.py:439: UserWarning: 1Torch was not compiled with flash attention. (Triggered internally at C:\\actions-runner\\_work\\pytorch\\pytorch\\builder\\windows\\pytorch\\aten\\src\\ATen\\native\\transformers\\cuda\\sdp_utils.cpp:555.)\n",
      "  attn_output = torch.nn.functional.scaled_dot_product_attention(\n"
     ]
    },
    {
     "data": {
      "text/html": [
       "\n",
       "    <div>\n",
       "      \n",
       "      <progress value='375' max='375' style='width:300px; height:20px; vertical-align: middle;'></progress>\n",
       "      [375/375 01:49, Epoch 3/3]\n",
       "    </div>\n",
       "    <table border=\"1\" class=\"dataframe\">\n",
       "  <thead>\n",
       " <tr style=\"text-align: left;\">\n",
       "      <th>Epoch</th>\n",
       "      <th>Training Loss</th>\n",
       "      <th>Validation Loss</th>\n",
       "      <th>Accuracy</th>\n",
       "    </tr>\n",
       "  </thead>\n",
       "  <tbody>\n",
       "    <tr>\n",
       "      <td>1</td>\n",
       "      <td>No log</td>\n",
       "      <td>1.205479</td>\n",
       "      <td>0.496000</td>\n",
       "    </tr>\n",
       "    <tr>\n",
       "      <td>2</td>\n",
       "      <td>No log</td>\n",
       "      <td>1.017869</td>\n",
       "      <td>0.557000</td>\n",
       "    </tr>\n",
       "    <tr>\n",
       "      <td>3</td>\n",
       "      <td>No log</td>\n",
       "      <td>1.001495</td>\n",
       "      <td>0.579000</td>\n",
       "    </tr>\n",
       "  </tbody>\n",
       "</table><p>"
      ],
      "text/plain": [
       "<IPython.core.display.HTML object>"
      ]
     },
     "metadata": {},
     "output_type": "display_data"
    },
    {
     "name": "stdout",
     "output_type": "stream",
     "text": [
      "logits [[-1.0838253  -0.26592827  0.4686988   1.2593491   1.1247147 ]\n",
      " [-1.4872512  -0.56552845  0.255923    1.2962977   1.5614707 ]\n",
      " [ 0.8988643   0.17326835 -0.38753706 -0.605385   -1.4947287 ]\n",
      " [-1.4982878  -0.46567714  0.21035378  1.2758518   1.6634251 ]\n",
      " [-0.72361964  0.09455957  0.47738528  0.5073498  -0.7683405 ]\n",
      " [-1.6476451  -0.5779936   0.1254545   1.2769508   1.8699628 ]\n",
      " [ 0.5998183   0.37572598 -0.24949498 -0.5812157  -1.5529152 ]\n",
      " [-1.1376874  -0.20103768  0.6748191   1.2054226   0.5281472 ]\n",
      " [-1.3817182  -0.29258457  0.52465945  1.2430221   1.034274  ]\n",
      " [-0.6258244   0.08374671  0.38156185  0.5189391  -0.6945604 ]]\n",
      "predictions: [3 4 0 4 3 4 0 3 3 3]\n",
      "references: [2 4 1 4 3 4 2 3 2 3]\n",
      "logits [[-2.0979238  -1.0862132  -0.1442049   1.8486749   1.8928374 ]\n",
      " [-2.3867989  -0.9981784   0.33805874  2.0501306   1.5348016 ]\n",
      " [ 2.408147    0.4579211  -0.91273725 -1.3471279  -1.3872284 ]\n",
      " [-2.205455   -1.1257621  -0.23831445  1.9478086   2.0290444 ]\n",
      " [-1.5319378   0.37723896  1.2347397   0.54325217 -1.4154814 ]\n",
      " [-2.163018   -1.072569   -0.40934175  1.8586905   2.2719731 ]\n",
      " [ 0.28942516  1.2834172   0.95321685 -0.73635375 -2.0089788 ]\n",
      " [-1.9682518  -0.73111707  0.14187934  1.7976543   1.6480792 ]\n",
      " [-2.1359086  -0.77826536  0.39953986  1.8830347   1.3106018 ]\n",
      " [-1.8508705  -0.19623569  1.0588158   1.6474242   0.29974458]]\n",
      "predictions: [4 3 0 4 2 4 1 3 3 3]\n",
      "references: [2 4 1 4 3 4 2 3 2 3]\n",
      "logits [[-2.4714432  -1.3855487  -0.5666844   2.161856    2.5557525 ]\n",
      " [-2.7855256  -1.538825   -0.18206331  2.4112854   2.1517599 ]\n",
      " [ 2.766011    0.40970066 -1.2841775  -1.4505742  -1.3817484 ]\n",
      " [-2.3182726  -1.3772526  -0.84930265  1.9750799   2.854547  ]\n",
      " [-2.5691838   0.8032352   2.757867    0.9827144  -1.826639  ]\n",
      " [-1.9669317  -1.3076532  -1.1058468   1.58605     3.079035  ]\n",
      " [-0.11662908  2.1203666   1.4617003  -0.5750371  -2.3847568 ]\n",
      " [-2.432771   -0.94764006 -0.15571031  2.0475695   2.162032  ]\n",
      " [-2.5758333  -1.0711182  -0.2153913   2.133014    2.233568  ]\n",
      " [-2.6334732  -0.11833376  1.3970588   1.9732991   0.4581709 ]]\n",
      "predictions: [4 3 0 4 2 4 1 4 4 3]\n",
      "references: [2 4 1 4 3 4 2 3 2 3]\n",
      "CPU times: total: 1min 22s\n",
      "Wall time: 1min 50s\n"
     ]
    },
    {
     "data": {
      "text/plain": [
       "TrainOutput(global_step=375, training_loss=1.1273314615885417, metrics={'train_runtime': 110.2596, 'train_samples_per_second': 27.209, 'train_steps_per_second': 3.401, 'total_flos': 789354427392000.0, 'train_loss': 1.1273314615885417, 'epoch': 3.0})"
      ]
     },
     "execution_count": 12,
     "metadata": {},
     "output_type": "execute_result"
    }
   ],
   "source": [
    "%%time\n",
    "trainer.train()"
   ]
  }
 ],
 "metadata": {
  "kernelspec": {
   "display_name": "Python 3 (ipykernel)",
   "language": "python",
   "name": "python3"
  },
  "language_info": {
   "codemirror_mode": {
    "name": "ipython",
    "version": 3
   },
   "file_extension": ".py",
   "mimetype": "text/x-python",
   "name": "python",
   "nbconvert_exporter": "python",
   "pygments_lexer": "ipython3",
   "version": "3.11.5"
  }
 },
 "nbformat": 4,
 "nbformat_minor": 5
}
