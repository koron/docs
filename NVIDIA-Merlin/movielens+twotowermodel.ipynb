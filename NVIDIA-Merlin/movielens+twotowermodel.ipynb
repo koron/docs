{
 "cells": [
  {
   "cell_type": "markdown",
   "id": "b8f6166a-a81f-4a6c-b905-d9f085c62b27",
   "metadata": {},
   "source": [
    "# MovieLens + TwoTower modelでembeddingを作るデモ\n",
    "\n",
    "このノートブックはMovieLensとTwoTowerモデルで、ベクトル検索に用いるembeddingsを作るデモのJupyter Labノートブックです。\n",
    "\n",
    "実行するにはNVIDIA製のGPUと、NVIDIA製のDockerイメージが必要です。ローカルで動作環境を整えるのは困難を極めるのでお勧めしません。\n",
    "このノートブックの動作確認はRTX 4070を積んだWindows 11デスックトップマシンで、Docker Desktop for Windowsを用いました。\n",
    "\n",
    "このファイルをローカルDockerで開くには、このファイルがあるディレクトリで以下のコマンドを実行します。\n",
    "このコマンドはこのディレクトリにある `run-merlintf-jupyterlab.sh` でも代用できます。\n",
    "\n",
    "```\n",
    "docker run -it --rm --gpus all \n",
    "    -p 8000:8000 -p 8001:8001 -p 8002:8002 -p 8888:8888 \n",
    "    -v .://workspace/data/ --ipc=host \n",
    "    -w //workspace/data \n",
    "    nvcr.io/nvidia/merlin/merlin-tensorflow:nightly \n",
    "    jupyter lab --allow-root --ip='0.0.0.0'\n",
    "```\n",
    "\n",
    "端末に以下のようなメッセージが表示されたら、`127.0.0.1:8888` のURLをホストマシンのブラウザで開くと、\n",
    "Jupyter Labにアクセスできます。\n",
    "\n",
    "```\n",
    "[C 2023-11-01 06:05:58.736 ServerApp]\n",
    "\n",
    "    To access the server, open this file in a browser:\n",
    "        file:///tmp/.jupyter/jpserver-1-open.html\n",
    "    Or copy and paste one of these URLs:\n",
    "        http://70439a8d96ae:8888/lab?token=7e5d667023a6d0e5c78246efb6e0423c84a3edf8fd5ea683\n",
    "        http://127.0.0.1:8888/lab?token=7e5d667023a6d0e5c78246efb6e0423c84a3edf8fd5ea683\n",
    "```\n",
    "\n",
    "Jupyter Labにアクセスしたら右側の領域から、本ファイル movielens+twotowermodel.ipynb をダブルクリックして開いてください。\n",
    "本ノートブックを手元のJupyter Labで表示できます。\n",
    "あとはPythonコードのセルを順番に実行することで動作確認ができます。\n",
    "\n"
   ]
  },
  {
   "cell_type": "markdown",
   "id": "0d01f872-7474-403c-a802-8d51499917ca",
   "metadata": {},
   "source": [
    "## インポート\n",
    "\n",
    "まずは必要なモジュールをインポートします。\n",
    "完了まで少々時間がかかること、また環境によってはログや警告メッセージが表示されるので、留意してください。"
   ]
  },
  {
   "cell_type": "code",
   "execution_count": 1,
   "id": "211536e9-88d5-475e-b650-4fe510b285aa",
   "metadata": {},
   "outputs": [
    {
     "name": "stderr",
     "output_type": "stream",
     "text": [
      "2023-11-01 07:10:38.264126: I tensorflow/core/platform/cpu_feature_guard.cc:183] This TensorFlow binary is optimized to use available CPU instructions in performance-critical operations.\n",
      "To enable the following instructions: SSE3 SSE4.1 SSE4.2 AVX, in other operations, rebuild TensorFlow with the appropriate compiler flags.\n",
      "/usr/local/lib/python3.10/dist-packages/merlin/dtypes/mappings/torch.py:43: UserWarning: PyTorch dtype mappings did not load successfully due to an error: No module named 'torch'\n",
      "  warn(f\"PyTorch dtype mappings did not load successfully due to an error: {exc.msg}\")\n"
     ]
    },
    {
     "name": "stdout",
     "output_type": "stream",
     "text": [
      "WARNING:tensorflow:Please fix your imports. Module tensorflow.python.training.tracking.data_structures has been moved to tensorflow.python.trackable.data_structures. The old module will be deleted in version 2.11.\n"
     ]
    },
    {
     "name": "stderr",
     "output_type": "stream",
     "text": [
      "2023-11-01 07:10:40.001797: I tensorflow/compiler/xla/stream_executor/cuda/cuda_gpu_executor.cc:999] could not open file to read NUMA node: /sys/bus/pci/devices/0000:01:00.0/numa_node\n",
      "Your kernel may have been built without NUMA support.\n",
      "2023-11-01 07:10:40.002147: I tensorflow/compiler/xla/stream_executor/cuda/cuda_gpu_executor.cc:999] could not open file to read NUMA node: /sys/bus/pci/devices/0000:01:00.0/numa_node\n",
      "Your kernel may have been built without NUMA support.\n",
      "2023-11-01 07:10:40.002172: I tensorflow/compiler/xla/stream_executor/cuda/cuda_gpu_executor.cc:999] could not open file to read NUMA node: /sys/bus/pci/devices/0000:01:00.0/numa_node\n",
      "Your kernel may have been built without NUMA support.\n",
      "WARNING:tensorflow:Please fix your imports. Module tensorflow.python.training.tracking.data_structures has been moved to tensorflow.python.trackable.data_structures. The old module will be deleted in version 2.11.\n"
     ]
    },
    {
     "name": "stdout",
     "output_type": "stream",
     "text": [
      "[INFO]: sparse_operation_kit is imported\n",
      "WARNING:tensorflow:Please fix your imports. Module tensorflow.python.training.tracking.base has been moved to tensorflow.python.trackable.base. The old module will be deleted in version 2.11.\n"
     ]
    },
    {
     "name": "stderr",
     "output_type": "stream",
     "text": [
      "WARNING:tensorflow:Please fix your imports. Module tensorflow.python.training.tracking.base has been moved to tensorflow.python.trackable.base. The old module will be deleted in version 2.11.\n"
     ]
    },
    {
     "name": "stdout",
     "output_type": "stream",
     "text": [
      "[SOK INFO] Import /usr/local/lib/python3.10/dist-packages/merlin_sok-1.2.0-py3.10-linux-x86_64.egg/sparse_operation_kit/lib/libsok_experiment.so\n",
      "[SOK INFO] Import /usr/local/lib/python3.10/dist-packages/merlin_sok-1.2.0-py3.10-linux-x86_64.egg/sparse_operation_kit/lib/libsok_experiment.so\n",
      "[SOK INFO] Initialize finished, communication tool: horovod\n"
     ]
    },
    {
     "name": "stderr",
     "output_type": "stream",
     "text": [
      "2023-11-01 07:10:40.295838: I tensorflow/compiler/xla/stream_executor/cuda/cuda_gpu_executor.cc:999] could not open file to read NUMA node: /sys/bus/pci/devices/0000:01:00.0/numa_node\n",
      "Your kernel may have been built without NUMA support.\n",
      "2023-11-01 07:10:40.295913: I tensorflow/compiler/xla/stream_executor/cuda/cuda_gpu_executor.cc:999] could not open file to read NUMA node: /sys/bus/pci/devices/0000:01:00.0/numa_node\n",
      "Your kernel may have been built without NUMA support.\n",
      "2023-11-01 07:10:40.295939: I tensorflow/compiler/xla/stream_executor/cuda/cuda_gpu_executor.cc:999] could not open file to read NUMA node: /sys/bus/pci/devices/0000:01:00.0/numa_node\n",
      "Your kernel may have been built without NUMA support.\n",
      "2023-11-01 07:10:40.307554: I tensorflow/compiler/xla/stream_executor/cuda/cuda_gpu_executor.cc:999] could not open file to read NUMA node: /sys/bus/pci/devices/0000:01:00.0/numa_node\n",
      "Your kernel may have been built without NUMA support.\n",
      "2023-11-01 07:10:40.307576: I tensorflow/core/common_runtime/gpu/gpu_device.cc:1725] Could not identify NUMA node of platform GPU id 0, defaulting to 0.  Your kernel may not have been built with NUMA support.\n",
      "2023-11-01 07:10:40.307608: I tensorflow/compiler/xla/stream_executor/cuda/cuda_gpu_executor.cc:999] could not open file to read NUMA node: /sys/bus/pci/devices/0000:01:00.0/numa_node\n",
      "Your kernel may have been built without NUMA support.\n",
      "2023-11-01 07:10:40.307635: I tensorflow/compiler/xla/stream_executor/cuda/cuda_gpu_executor.cc:999] could not open file to read NUMA node: /sys/bus/pci/devices/0000:01:00.0/numa_node\n",
      "Your kernel may have been built without NUMA support.\n",
      "2023-11-01 07:10:40.307644: W tensorflow/core/common_runtime/gpu/gpu_bfc_allocator.cc:47] Overriding orig_value setting because the TF_FORCE_GPU_ALLOW_GROWTH environment variable is set. Original config value was 0.\n",
      "2023-11-01 07:10:40.307666: I tensorflow/core/common_runtime/gpu/gpu_device.cc:1638] Created device /job:localhost/replica:0/task:0/device:GPU:0 with 6140 MB memory:  -> device: 0, name: NVIDIA GeForce RTX 4070, pci bus id: 0000:01:00.0, compute capability: 8.9\n",
      "/usr/local/lib/python3.10/dist-packages/tqdm/auto.py:21: TqdmWarning: IProgress not found. Please update jupyter and ipywidgets. See https://ipywidgets.readthedocs.io/en/stable/user_install.html\n",
      "  from .autonotebook import tqdm as notebook_tqdm\n"
     ]
    }
   ],
   "source": [
    "import os\n",
    "\n",
    "from merlin.datasets.entertainment import get_movielens\n",
    "from merlin.schema.tags import Tags\n",
    "import merlin.models.tf as mm\n",
    "from merlin.models.utils.dataset import unique_rows_by_features\n",
    "from merlin.io.dataset import Dataset\n",
    "\n",
    "import tensorflow as tf"
   ]
  },
  {
   "cell_type": "markdown",
   "id": "7d4a31f5-7922-416f-ac2c-b927d806da74",
   "metadata": {},
   "source": [
    "## MovieLensデータの準備\n",
    "\n",
    "MovieLensのデータを必要があればダウンロード、展開して読み込み、Merlin Tensorflowで利用可能な形に整形します。\n",
    "\n",
    "データは _data/ ディレクトリ内に配置されます。\n",
    "また中間ファイルが categories/ ディレクトリに作成されます。\n",
    "\n",
    "読み込んだデータは訓練用の `train` と 検証の `valid` の2つのデータセットに 8:2 の割合で分けられています。"
   ]
  },
  {
   "cell_type": "code",
   "execution_count": 2,
   "id": "52d31430-f358-4a68-a022-65a579806e4c",
   "metadata": {},
   "outputs": [],
   "source": [
    "DATADIR = os.environ.get(\"INPUT_DATA_DIR\", os.path.expanduser(\"./_data/\"))"
   ]
  },
  {
   "cell_type": "code",
   "execution_count": 3,
   "id": "3d83f975-caaf-4f7f-8c1d-8b4683c57929",
   "metadata": {},
   "outputs": [],
   "source": [
    "train, valid = get_movielens(variant=\"ml-1m\", path=DATADIR)"
   ]
  },
  {
   "cell_type": "markdown",
   "id": "d48ff3c3-ae37-42b5-85ee-ca6b6e0792ff",
   "metadata": {},
   "source": [
    "データは映画作品を評価したユーザーの情報(user)と、評価された映画作品(item)の情報が非正規化された、1つのテーブルになっています。\n",
    "\n",
    "また各カラムにはタグで情報づけられています。\n",
    "`Tags.USER` はユーザーの情報、 `Tags.ITEM` はアイテムの情報、 `Tags.ID` はユーザーとアイテムそれぞれのIDに付けられます。\n",
    "Tensorflowはこのタグを識別してモデルの作成に利用します。\n",
    "\n",
    "次のコードはそのデータのスキーマから、ユーザーに関するものだけを抜き出し表示します。"
   ]
  },
  {
   "cell_type": "code",
   "execution_count": 4,
   "id": "9e73643e-191d-4374-ba68-e88aa7500379",
   "metadata": {},
   "outputs": [
    {
     "data": {
      "text/html": [
       "<div>\n",
       "<style scoped>\n",
       "    .dataframe tbody tr th:only-of-type {\n",
       "        vertical-align: middle;\n",
       "    }\n",
       "\n",
       "    .dataframe tbody tr th {\n",
       "        vertical-align: top;\n",
       "    }\n",
       "\n",
       "    .dataframe thead th {\n",
       "        text-align: right;\n",
       "    }\n",
       "</style>\n",
       "<table border=\"1\" class=\"dataframe\">\n",
       "  <thead>\n",
       "    <tr style=\"text-align: right;\">\n",
       "      <th></th>\n",
       "      <th>name</th>\n",
       "      <th>tags</th>\n",
       "      <th>dtype</th>\n",
       "      <th>is_list</th>\n",
       "      <th>is_ragged</th>\n",
       "      <th>properties.num_buckets</th>\n",
       "      <th>properties.freq_threshold</th>\n",
       "      <th>properties.max_size</th>\n",
       "      <th>properties.cat_path</th>\n",
       "      <th>properties.embedding_sizes.cardinality</th>\n",
       "      <th>properties.embedding_sizes.dimension</th>\n",
       "      <th>properties.domain.min</th>\n",
       "      <th>properties.domain.max</th>\n",
       "      <th>properties.domain.name</th>\n",
       "    </tr>\n",
       "  </thead>\n",
       "  <tbody>\n",
       "    <tr>\n",
       "      <th>0</th>\n",
       "      <td>TE_userId_rating</td>\n",
       "      <td>(Tags.CONTINUOUS, Tags.USER)</td>\n",
       "      <td>DType(name='float64', element_type=&lt;ElementTyp...</td>\n",
       "      <td>False</td>\n",
       "      <td>False</td>\n",
       "      <td>NaN</td>\n",
       "      <td>NaN</td>\n",
       "      <td>NaN</td>\n",
       "      <td>NaN</td>\n",
       "      <td>NaN</td>\n",
       "      <td>NaN</td>\n",
       "      <td>NaN</td>\n",
       "      <td>NaN</td>\n",
       "      <td>NaN</td>\n",
       "    </tr>\n",
       "    <tr>\n",
       "      <th>1</th>\n",
       "      <td>TE_age_rating</td>\n",
       "      <td>(Tags.CONTINUOUS, Tags.USER)</td>\n",
       "      <td>DType(name='float64', element_type=&lt;ElementTyp...</td>\n",
       "      <td>False</td>\n",
       "      <td>False</td>\n",
       "      <td>NaN</td>\n",
       "      <td>NaN</td>\n",
       "      <td>NaN</td>\n",
       "      <td>NaN</td>\n",
       "      <td>NaN</td>\n",
       "      <td>NaN</td>\n",
       "      <td>NaN</td>\n",
       "      <td>NaN</td>\n",
       "      <td>NaN</td>\n",
       "    </tr>\n",
       "    <tr>\n",
       "      <th>2</th>\n",
       "      <td>TE_gender_rating</td>\n",
       "      <td>(Tags.CONTINUOUS, Tags.USER)</td>\n",
       "      <td>DType(name='float64', element_type=&lt;ElementTyp...</td>\n",
       "      <td>False</td>\n",
       "      <td>False</td>\n",
       "      <td>NaN</td>\n",
       "      <td>NaN</td>\n",
       "      <td>NaN</td>\n",
       "      <td>NaN</td>\n",
       "      <td>NaN</td>\n",
       "      <td>NaN</td>\n",
       "      <td>NaN</td>\n",
       "      <td>NaN</td>\n",
       "      <td>NaN</td>\n",
       "    </tr>\n",
       "    <tr>\n",
       "      <th>3</th>\n",
       "      <td>TE_occupation_rating</td>\n",
       "      <td>(Tags.CONTINUOUS, Tags.USER)</td>\n",
       "      <td>DType(name='float64', element_type=&lt;ElementTyp...</td>\n",
       "      <td>False</td>\n",
       "      <td>False</td>\n",
       "      <td>NaN</td>\n",
       "      <td>NaN</td>\n",
       "      <td>NaN</td>\n",
       "      <td>NaN</td>\n",
       "      <td>NaN</td>\n",
       "      <td>NaN</td>\n",
       "      <td>NaN</td>\n",
       "      <td>NaN</td>\n",
       "      <td>NaN</td>\n",
       "    </tr>\n",
       "    <tr>\n",
       "      <th>4</th>\n",
       "      <td>TE_zipcode_rating</td>\n",
       "      <td>(Tags.CONTINUOUS, Tags.USER)</td>\n",
       "      <td>DType(name='float64', element_type=&lt;ElementTyp...</td>\n",
       "      <td>False</td>\n",
       "      <td>False</td>\n",
       "      <td>NaN</td>\n",
       "      <td>NaN</td>\n",
       "      <td>NaN</td>\n",
       "      <td>NaN</td>\n",
       "      <td>NaN</td>\n",
       "      <td>NaN</td>\n",
       "      <td>NaN</td>\n",
       "      <td>NaN</td>\n",
       "      <td>NaN</td>\n",
       "    </tr>\n",
       "    <tr>\n",
       "      <th>5</th>\n",
       "      <td>userId</td>\n",
       "      <td>(Tags.ID, Tags.USER, Tags.CATEGORICAL)</td>\n",
       "      <td>DType(name='int32', element_type=&lt;ElementType....</td>\n",
       "      <td>False</td>\n",
       "      <td>False</td>\n",
       "      <td>NaN</td>\n",
       "      <td>0.0</td>\n",
       "      <td>0.0</td>\n",
       "      <td>.//categories/unique.userId.parquet</td>\n",
       "      <td>6043.0</td>\n",
       "      <td>210.0</td>\n",
       "      <td>0.0</td>\n",
       "      <td>6042.0</td>\n",
       "      <td>userId</td>\n",
       "    </tr>\n",
       "  </tbody>\n",
       "</table>\n",
       "</div>"
      ],
      "text/plain": [
       "[{'name': 'TE_userId_rating', 'tags': {<Tags.CONTINUOUS: 'continuous'>, <Tags.USER: 'user'>}, 'properties': {}, 'dtype': DType(name='float64', element_type=<ElementType.Float: 'float'>, element_size=64, element_unit=None, signed=True, shape=Shape(dims=(Dimension(min=0, max=None),))), 'is_list': False, 'is_ragged': False}, {'name': 'TE_age_rating', 'tags': {<Tags.CONTINUOUS: 'continuous'>, <Tags.USER: 'user'>}, 'properties': {}, 'dtype': DType(name='float64', element_type=<ElementType.Float: 'float'>, element_size=64, element_unit=None, signed=True, shape=Shape(dims=(Dimension(min=0, max=None),))), 'is_list': False, 'is_ragged': False}, {'name': 'TE_gender_rating', 'tags': {<Tags.CONTINUOUS: 'continuous'>, <Tags.USER: 'user'>}, 'properties': {}, 'dtype': DType(name='float64', element_type=<ElementType.Float: 'float'>, element_size=64, element_unit=None, signed=True, shape=Shape(dims=(Dimension(min=0, max=None),))), 'is_list': False, 'is_ragged': False}, {'name': 'TE_occupation_rating', 'tags': {<Tags.CONTINUOUS: 'continuous'>, <Tags.USER: 'user'>}, 'properties': {}, 'dtype': DType(name='float64', element_type=<ElementType.Float: 'float'>, element_size=64, element_unit=None, signed=True, shape=Shape(dims=(Dimension(min=0, max=None),))), 'is_list': False, 'is_ragged': False}, {'name': 'TE_zipcode_rating', 'tags': {<Tags.CONTINUOUS: 'continuous'>, <Tags.USER: 'user'>}, 'properties': {}, 'dtype': DType(name='float64', element_type=<ElementType.Float: 'float'>, element_size=64, element_unit=None, signed=True, shape=Shape(dims=(Dimension(min=0, max=None),))), 'is_list': False, 'is_ragged': False}, {'name': 'userId', 'tags': {<Tags.ID: 'id'>, <Tags.USER: 'user'>, <Tags.CATEGORICAL: 'categorical'>}, 'properties': {'num_buckets': None, 'freq_threshold': 0.0, 'max_size': 0.0, 'cat_path': './/categories/unique.userId.parquet', 'embedding_sizes': {'cardinality': 6043.0, 'dimension': 210.0}, 'domain': {'min': 0, 'max': 6042, 'name': 'userId'}}, 'dtype': DType(name='int32', element_type=<ElementType.Int: 'int'>, element_size=32, element_unit=None, signed=True, shape=Shape(dims=(Dimension(min=0, max=None),))), 'is_list': False, 'is_ragged': False}]"
      ]
     },
     "execution_count": 4,
     "metadata": {},
     "output_type": "execute_result"
    }
   ],
   "source": [
    "train.schema.select_by_tag(Tags.USER)"
   ]
  },
  {
   "cell_type": "markdown",
   "id": "7310d258-2dfa-4401-bc82-dd6a57c74294",
   "metadata": {},
   "source": [
    "次のコードは映画作品に関するスキーマだけを抜き出します。\n",
    "\n",
    "なおこのデモで利用しているシンプルなTwo Towerでは、ユーザーと映画作品を繋ぐ「レーティング」のような情報は取り扱えません。\n",
    "それを取り扱えるようにする研究として [IntTower](https://github.com/archersama/IntTower/) が存在します。"
   ]
  },
  {
   "cell_type": "code",
   "execution_count": 5,
   "id": "827b7069-d1b0-4b21-a2dc-fb946c39a1f6",
   "metadata": {},
   "outputs": [
    {
     "data": {
      "text/html": [
       "<div>\n",
       "<style scoped>\n",
       "    .dataframe tbody tr th:only-of-type {\n",
       "        vertical-align: middle;\n",
       "    }\n",
       "\n",
       "    .dataframe tbody tr th {\n",
       "        vertical-align: top;\n",
       "    }\n",
       "\n",
       "    .dataframe thead th {\n",
       "        text-align: right;\n",
       "    }\n",
       "</style>\n",
       "<table border=\"1\" class=\"dataframe\">\n",
       "  <thead>\n",
       "    <tr style=\"text-align: right;\">\n",
       "      <th></th>\n",
       "      <th>name</th>\n",
       "      <th>tags</th>\n",
       "      <th>dtype</th>\n",
       "      <th>is_list</th>\n",
       "      <th>is_ragged</th>\n",
       "      <th>properties.num_buckets</th>\n",
       "      <th>properties.freq_threshold</th>\n",
       "      <th>properties.max_size</th>\n",
       "      <th>properties.cat_path</th>\n",
       "      <th>properties.embedding_sizes.cardinality</th>\n",
       "      <th>properties.embedding_sizes.dimension</th>\n",
       "      <th>properties.domain.min</th>\n",
       "      <th>properties.domain.max</th>\n",
       "      <th>properties.domain.name</th>\n",
       "      <th>properties.value_count.min</th>\n",
       "      <th>properties.value_count.max</th>\n",
       "    </tr>\n",
       "  </thead>\n",
       "  <tbody>\n",
       "    <tr>\n",
       "      <th>0</th>\n",
       "      <td>TE_movieId_rating</td>\n",
       "      <td>(Tags.CONTINUOUS, Tags.ITEM)</td>\n",
       "      <td>DType(name='float64', element_type=&lt;ElementTyp...</td>\n",
       "      <td>False</td>\n",
       "      <td>False</td>\n",
       "      <td>NaN</td>\n",
       "      <td>NaN</td>\n",
       "      <td>NaN</td>\n",
       "      <td>NaN</td>\n",
       "      <td>NaN</td>\n",
       "      <td>NaN</td>\n",
       "      <td>NaN</td>\n",
       "      <td>NaN</td>\n",
       "      <td>NaN</td>\n",
       "      <td>NaN</td>\n",
       "      <td>NaN</td>\n",
       "    </tr>\n",
       "    <tr>\n",
       "      <th>1</th>\n",
       "      <td>movieId</td>\n",
       "      <td>(Tags.ID, Tags.ITEM, Tags.CATEGORICAL)</td>\n",
       "      <td>DType(name='int32', element_type=&lt;ElementType....</td>\n",
       "      <td>False</td>\n",
       "      <td>False</td>\n",
       "      <td>NaN</td>\n",
       "      <td>0.0</td>\n",
       "      <td>0.0</td>\n",
       "      <td>.//categories/unique.movieId.parquet</td>\n",
       "      <td>3675.0</td>\n",
       "      <td>159.0</td>\n",
       "      <td>0.0</td>\n",
       "      <td>3674.0</td>\n",
       "      <td>movieId</td>\n",
       "      <td>NaN</td>\n",
       "      <td>NaN</td>\n",
       "    </tr>\n",
       "    <tr>\n",
       "      <th>2</th>\n",
       "      <td>genres</td>\n",
       "      <td>(Tags.ITEM, Tags.CATEGORICAL)</td>\n",
       "      <td>DType(name='int32', element_type=&lt;ElementType....</td>\n",
       "      <td>True</td>\n",
       "      <td>True</td>\n",
       "      <td>NaN</td>\n",
       "      <td>0.0</td>\n",
       "      <td>0.0</td>\n",
       "      <td>.//categories/unique.genres.parquet</td>\n",
       "      <td>21.0</td>\n",
       "      <td>16.0</td>\n",
       "      <td>0.0</td>\n",
       "      <td>20.0</td>\n",
       "      <td>genres</td>\n",
       "      <td>1.0</td>\n",
       "      <td>6.0</td>\n",
       "    </tr>\n",
       "  </tbody>\n",
       "</table>\n",
       "</div>"
      ],
      "text/plain": [
       "[{'name': 'TE_movieId_rating', 'tags': {<Tags.CONTINUOUS: 'continuous'>, <Tags.ITEM: 'item'>}, 'properties': {}, 'dtype': DType(name='float64', element_type=<ElementType.Float: 'float'>, element_size=64, element_unit=None, signed=True, shape=Shape(dims=(Dimension(min=0, max=None),))), 'is_list': False, 'is_ragged': False}, {'name': 'movieId', 'tags': {<Tags.ID: 'id'>, <Tags.ITEM: 'item'>, <Tags.CATEGORICAL: 'categorical'>}, 'properties': {'num_buckets': None, 'freq_threshold': 0.0, 'max_size': 0.0, 'cat_path': './/categories/unique.movieId.parquet', 'embedding_sizes': {'cardinality': 3675.0, 'dimension': 159.0}, 'domain': {'min': 0, 'max': 3674, 'name': 'movieId'}}, 'dtype': DType(name='int32', element_type=<ElementType.Int: 'int'>, element_size=32, element_unit=None, signed=True, shape=Shape(dims=(Dimension(min=0, max=None),))), 'is_list': False, 'is_ragged': False}, {'name': 'genres', 'tags': {<Tags.ITEM: 'item'>, <Tags.CATEGORICAL: 'categorical'>}, 'properties': {'num_buckets': None, 'freq_threshold': 0.0, 'max_size': 0.0, 'cat_path': './/categories/unique.genres.parquet', 'embedding_sizes': {'cardinality': 21.0, 'dimension': 16.0}, 'domain': {'min': 0, 'max': 20, 'name': 'genres'}, 'value_count': {'min': 1, 'max': 6}}, 'dtype': DType(name='int32', element_type=<ElementType.Int: 'int'>, element_size=32, element_unit=None, signed=True, shape=Shape(dims=(Dimension(min=0, max=None), Dimension(min=1, max=6)))), 'is_list': True, 'is_ragged': True}]"
      ]
     },
     "execution_count": 5,
     "metadata": {},
     "output_type": "execute_result"
    }
   ],
   "source": [
    "train.schema.select_by_tag(Tags.ITEM)"
   ]
  },
  {
   "cell_type": "markdown",
   "id": "695077c6-30d1-4cf0-940e-5a5bce4ab2f7",
   "metadata": {},
   "source": [
    "## モデルの構築と学習\n",
    "\n",
    "データの確認が終わると、モデルの構築と学習に入れます。\n",
    "\n",
    "Two Towerモデルは、ユーザタワーとアイテムタワー、2つの多層パーセプトロンを必要とします。\n",
    "1つ1つのユーザーとアイテムのペアが、それぞれのタワーで空間上の近いところに射影≒配置されるように学習することで、embeddingのための変換を獲得します。\n",
    "\n",
    "次のコードではそれぞれのタワーを128次元と64次元の2層のパーセプトロンとして作成し、\n",
    "ユーザー側のスキーマとアイテム側のスキーマを紐づけています。\n",
    "\n",
    "その後に2つのタワー≒パーセプトロンを組み合わせてTwo Towerモデルを構築します。"
   ]
  },
  {
   "cell_type": "code",
   "execution_count": 6,
   "id": "3dd390c6-79fc-4dd1-af73-d68ead9e4bed",
   "metadata": {},
   "outputs": [],
   "source": [
    "tower_dim = 64\n",
    "\n",
    "user_schema = train.schema.select_by_tag(Tags.USER)\n",
    "user_inputs = mm.InputBlockV2(user_schema)\n",
    "query = mm.Encoder(user_inputs, mm.MLPBlock([128, tower_dim], no_activation_last_layer=True))\n",
    "\n",
    "item_schema = train.schema.select_by_tag(Tags.ITEM)\n",
    "item_inputs = mm.InputBlockV2(item_schema)\n",
    "candidate = mm.Encoder(item_inputs, mm.MLPBlock([128, tower_dim], no_activation_last_layer=True))"
   ]
  },
  {
   "cell_type": "code",
   "execution_count": 7,
   "id": "8106a2af-b444-451e-87a2-6668832b9ff5",
   "metadata": {},
   "outputs": [],
   "source": [
    "model = mm.TwoTowerModelV2(query, candidate)"
   ]
  },
  {
   "cell_type": "markdown",
   "id": "b859f715-b584-4d63-a3a9-9574bf511188",
   "metadata": {},
   "source": [
    "Two Towerモデルが構築できたら学習です。\n",
    "\n",
    "GPUを用いても少々時間がかかるので、気長に待ちましょう。\n",
    "実行中には動作ログや警告が出力されることがあります。\n",
    "\n",
    "また稀に失敗することがあるのでその場合は再実行するか、\n",
    "さらに失敗する用ならJupyter Labのカーネルを再起動して、最初の手順からやり直してみてください。"
   ]
  },
  {
   "cell_type": "code",
   "execution_count": 8,
   "id": "2e15d91d-8f25-4fbb-b11a-d96d757cce6d",
   "metadata": {},
   "outputs": [
    {
     "name": "stderr",
     "output_type": "stream",
     "text": [
      "2023-11-01 07:10:44.041181: I tensorflow/compiler/xla/stream_executor/cuda/cuda_blas.cc:655] TensorFloat-32 will be used for the matrix multiplication. This will only be logged once.\n"
     ]
    },
    {
     "name": "stdout",
     "output_type": "stream",
     "text": [
      "Epoch 1/2\n"
     ]
    },
    {
     "name": "stderr",
     "output_type": "stream",
     "text": [
      "2023-11-01 07:10:44.280998: I tensorflow/core/common_runtime/executor.cc:1209] [/device:CPU:0] (DEBUG INFO) Executor start aborting (this does not indicate an error and you can ignore this message): INVALID_ARGUMENT: You must feed a value for placeholder tensor 'Placeholder/_0' with dtype int32\n",
      "\t [[{{node Placeholder/_0}}]]\n"
     ]
    },
    {
     "name": "stdout",
     "output_type": "stream",
     "text": [
      "196/196 [==============================] - ETA: 0s - loss: 8.2099 - recall_at_10: 0.0051 - ndcg_at_10: 0.0026 - regularization_loss: 0.0000e+00 - loss_batch: 8.2061"
     ]
    },
    {
     "name": "stderr",
     "output_type": "stream",
     "text": [
      "2023-11-01 07:10:56.685577: I tensorflow/core/common_runtime/executor.cc:1209] [/device:CPU:0] (DEBUG INFO) Executor start aborting (this does not indicate an error and you can ignore this message): INVALID_ARGUMENT: You must feed a value for placeholder tensor 'Placeholder/_0' with dtype int32\n",
      "\t [[{{node Placeholder/_0}}]]\n"
     ]
    },
    {
     "name": "stdout",
     "output_type": "stream",
     "text": [
      "196/196 [==============================] - 15s 42ms/step - loss: 8.2099 - recall_at_10: 0.0052 - ndcg_at_10: 0.0026 - regularization_loss: 0.0000e+00 - loss_batch: 8.2004 - val_loss: 8.1131 - val_recall_at_10: 0.0088 - val_ndcg_at_10: 0.0044 - val_regularization_loss: 0.0000e+00 - val_loss_batch: 7.9468\n",
      "Epoch 2/2\n",
      "196/196 [==============================] - 7s 35ms/step - loss: 8.0682 - recall_at_10: 0.0101 - ndcg_at_10: 0.0050 - regularization_loss: 0.0000e+00 - loss_batch: 8.0588 - val_loss: 8.0294 - val_recall_at_10: 0.0119 - val_ndcg_at_10: 0.0060 - val_regularization_loss: 0.0000e+00 - val_loss_batch: 7.8682\n"
     ]
    },
    {
     "data": {
      "text/plain": [
       "<keras.callbacks.History at 0x7fe4d7faf6d0>"
      ]
     },
     "execution_count": 8,
     "metadata": {},
     "output_type": "execute_result"
    }
   ],
   "source": [
    "model.compile(optimizer=\"adam\", run_eagerly=False, metrics=[mm.RecallAt(10), mm.NDCGAt(10)])\n",
    "model.fit(train, validation_data=valid, batch_size=4096, epochs=2)"
   ]
  },
  {
   "cell_type": "markdown",
   "id": "e990b814-9016-408f-9938-7da3699b761a",
   "metadata": {},
   "source": [
    "## モデルの評価\n",
    "\n",
    "次に学習を完了したモデルの評価を行います。\n",
    "\n",
    "評価はモデルから近似トップKを得るモデルを作成し、そのトップKモデルに対して検証用データを適用することで行っています。\n",
    "(評価の原理は調べ切れていないため、まだよくわかっていません)\n",
    "\n",
    "まずトップKの対象となるアイテムの候補一覧を取得します。"
   ]
  },
  {
   "cell_type": "code",
   "execution_count": 9,
   "id": "c79a672b-1de0-47d4-9250-72b6c840e461",
   "metadata": {},
   "outputs": [
    {
     "data": {
      "text/html": [
       "<div>\n",
       "<style scoped>\n",
       "    .dataframe tbody tr th:only-of-type {\n",
       "        vertical-align: middle;\n",
       "    }\n",
       "\n",
       "    .dataframe tbody tr th {\n",
       "        vertical-align: top;\n",
       "    }\n",
       "\n",
       "    .dataframe thead th {\n",
       "        text-align: right;\n",
       "    }\n",
       "</style>\n",
       "<table border=\"1\" class=\"dataframe\">\n",
       "  <thead>\n",
       "    <tr style=\"text-align: right;\">\n",
       "      <th></th>\n",
       "      <th>TE_movieId_rating</th>\n",
       "      <th>movieId</th>\n",
       "      <th>genres</th>\n",
       "    </tr>\n",
       "  </thead>\n",
       "  <tbody>\n",
       "    <tr>\n",
       "      <th>262</th>\n",
       "      <td>1.465964</td>\n",
       "      <td>3</td>\n",
       "      <td>[3, 4]</td>\n",
       "    </tr>\n",
       "    <tr>\n",
       "      <th>18</th>\n",
       "      <td>1.703433</td>\n",
       "      <td>4</td>\n",
       "      <td>[5, 9, 17, 7]</td>\n",
       "    </tr>\n",
       "    <tr>\n",
       "      <th>552</th>\n",
       "      <td>1.374078</td>\n",
       "      <td>5</td>\n",
       "      <td>[5, 9, 4, 7, 13]</td>\n",
       "    </tr>\n",
       "    <tr>\n",
       "      <th>204</th>\n",
       "      <td>0.832853</td>\n",
       "      <td>6</td>\n",
       "      <td>[5, 9, 8, 7, 13]</td>\n",
       "    </tr>\n",
       "    <tr>\n",
       "      <th>808</th>\n",
       "      <td>0.306010</td>\n",
       "      <td>7</td>\n",
       "      <td>[5, 9, 7]</td>\n",
       "    </tr>\n",
       "  </tbody>\n",
       "</table>\n",
       "</div>"
      ],
      "text/plain": [
       "     TE_movieId_rating  movieId            genres\n",
       "262           1.465964        3            [3, 4]\n",
       "18            1.703433        4     [5, 9, 17, 7]\n",
       "552           1.374078        5  [5, 9, 4, 7, 13]\n",
       "204           0.832853        6  [5, 9, 8, 7, 13]\n",
       "808           0.306010        7         [5, 9, 7]"
      ]
     },
     "execution_count": 9,
     "metadata": {},
     "output_type": "execute_result"
    }
   ],
   "source": [
    "candidate_features = unique_rows_by_features(train, Tags.ITEM, Tags.ITEM_ID)\n",
    "candidate_features.head()"
   ]
  },
  {
   "cell_type": "markdown",
   "id": "2344ce4a-bf18-4a85-86a7-98d4e9baeebd",
   "metadata": {},
   "source": [
    "次にTwo Towerモデルと候補一覧から、トップK(K=20)のモデルを生成します。\n",
    "\n",
    "実行に少々時間がかかるのと、情報や警告のログがでることに留意してください。"
   ]
  },
  {
   "cell_type": "code",
   "execution_count": 10,
   "id": "716ba9fb-94a7-4674-a0cc-2fadead3a786",
   "metadata": {},
   "outputs": [
    {
     "name": "stderr",
     "output_type": "stream",
     "text": [
      "2023-11-01 07:11:07.221831: I tensorflow/core/common_runtime/executor.cc:1209] [/device:CPU:0] (DEBUG INFO) Executor start aborting (this does not indicate an error and you can ignore this message): INVALID_ARGUMENT: You must feed a value for placeholder tensor 'inputs_3' with dtype int32 and shape [?]\n",
      "\t [[{{node inputs_3}}]]\n",
      "2023-11-01 07:11:07.238880: I tensorflow/core/common_runtime/executor.cc:1209] [/device:CPU:0] (DEBUG INFO) Executor start aborting (this does not indicate an error and you can ignore this message): INVALID_ARGUMENT: You must feed a value for placeholder tensor 'inputs_3' with dtype int32 and shape [?]\n",
      "\t [[{{node inputs_3}}]]\n",
      "WARNING:absl:Function `_wrapped_model` contains input name(s) TE_movieId_rating, movieId with unsupported characters which will be renamed to te_movieid_rating, movieid in the SavedModel.\n",
      "2023-11-01 07:11:07.745478: I tensorflow/core/common_runtime/executor.cc:1209] [/device:CPU:0] (DEBUG INFO) Executor start aborting (this does not indicate an error and you can ignore this message): INVALID_ARGUMENT: You must feed a value for placeholder tensor 'inputs_1' with dtype int32 and shape [?]\n",
      "\t [[{{node inputs_1}}]]\n",
      "2023-11-01 07:11:07.762084: I tensorflow/core/common_runtime/executor.cc:1209] [/device:CPU:0] (DEBUG INFO) Executor start aborting (this does not indicate an error and you can ignore this message): INVALID_ARGUMENT: You must feed a value for placeholder tensor 'inputs_1' with dtype int32 and shape [?]\n",
      "\t [[{{node inputs_1}}]]\n",
      "WARNING:absl:Found untraced functions such as prepare_list_features_1_layer_call_fn, prepare_list_features_1_layer_call_and_return_conditional_losses, model_context_layer_call_fn, model_context_layer_call_and_return_conditional_losses, concat_features_1_layer_call_fn while saving (showing 5 of 26). These functions will not be directly callable after loading.\n"
     ]
    },
    {
     "name": "stdout",
     "output_type": "stream",
     "text": [
      "INFO:tensorflow:Assets written to: /tmp/tmpuu5izfj8/assets\n"
     ]
    },
    {
     "name": "stderr",
     "output_type": "stream",
     "text": [
      "INFO:tensorflow:Assets written to: /tmp/tmpuu5izfj8/assets\n"
     ]
    },
    {
     "name": "stdout",
     "output_type": "stream",
     "text": [
      "WARNING:tensorflow:No training configuration found in save file, so the model was *not* compiled. Compile it manually.\n"
     ]
    },
    {
     "name": "stderr",
     "output_type": "stream",
     "text": [
      "WARNING:tensorflow:No training configuration found in save file, so the model was *not* compiled. Compile it manually.\n"
     ]
    },
    {
     "name": "stdout",
     "output_type": "stream",
     "text": [
      "WARNING:tensorflow:No training configuration found in save file, so the model was *not* compiled. Compile it manually.\n"
     ]
    },
    {
     "name": "stderr",
     "output_type": "stream",
     "text": [
      "WARNING:tensorflow:No training configuration found in save file, so the model was *not* compiled. Compile it manually.\n"
     ]
    }
   ],
   "source": [
    "topk = 20\n",
    "topk_model = model.to_top_k_encoder(candidate_features, k=topk, batch_size=128)"
   ]
  },
  {
   "cell_type": "code",
   "execution_count": 11,
   "id": "f05b40c1-adf1-477c-a525-f4da6f06ba78",
   "metadata": {},
   "outputs": [],
   "source": [
    "topk_model.compile(run_eagerly=False)"
   ]
  },
  {
   "cell_type": "markdown",
   "id": "17fa6584-8da2-4a7c-9c69-82afc082326c",
   "metadata": {},
   "source": [
    "検証用のデータセットを読み込むローダーを指定します。"
   ]
  },
  {
   "cell_type": "code",
   "execution_count": 12,
   "id": "147ecd6c-5029-49eb-a66b-f5de69fee5c7",
   "metadata": {},
   "outputs": [],
   "source": [
    "eval_loader = mm.Loader(valid, batch_size=1024).map(mm.ToTarget(valid.schema, \"movieId\"))"
   ]
  },
  {
   "cell_type": "markdown",
   "id": "9fcd1926-29ed-480b-b5f1-273daaa183b3",
   "metadata": {},
   "source": [
    "ローダーとトップKモデルを用いて、評価しその結果を得ます。\n",
    "\n",
    "評価値のうち `loss` は小さいほど良いモノです。\n",
    "(他の値については別途調査が必要)"
   ]
  },
  {
   "cell_type": "code",
   "execution_count": 13,
   "id": "b713136f-9dee-48a5-9b83-f7ca69da54f6",
   "metadata": {},
   "outputs": [
    {
     "name": "stderr",
     "output_type": "stream",
     "text": [
      "2023-11-01 07:11:24.168259: I tensorflow/core/common_runtime/executor.cc:1209] [/device:CPU:0] (DEBUG INFO) Executor start aborting (this does not indicate an error and you can ignore this message): INVALID_ARGUMENT: You must feed a value for placeholder tensor 'Placeholder/_0' with dtype int32\n",
      "\t [[{{node Placeholder/_0}}]]\n"
     ]
    },
    {
     "name": "stdout",
     "output_type": "stream",
     "text": [
      "196/196 [==============================] - 6s 22ms/step - loss: 0.0698 - recall_at_10: 0.0116 - mrr_at_10: 0.0032 - ndcg_at_10: 0.0051 - map_at_10: 0.0032 - precision_at_10: 0.0012 - regularization_loss: 0.0000e+00 - loss_batch: 0.0695\n"
     ]
    },
    {
     "data": {
      "text/plain": [
       "{'loss': 0.06978823989629745,\n",
       " 'recall_at_10': 0.011582625098526478,\n",
       " 'mrr_at_10': 0.003222384722903371,\n",
       " 'ndcg_at_10': 0.005127827636897564,\n",
       " 'map_at_10': 0.003222384722903371,\n",
       " 'precision_at_10': 0.0011582624865695834,\n",
       " 'regularization_loss': 0.0,\n",
       " 'loss_batch': 0.032966624945402145}"
      ]
     },
     "execution_count": 13,
     "metadata": {},
     "output_type": "execute_result"
    }
   ],
   "source": [
    "metrics = topk_model.evaluate(eval_loader, return_dict=True)\n",
    "metrics"
   ]
  },
  {
   "cell_type": "markdown",
   "id": "0ac60aba-4ae3-46c3-9c51-851ff78152a2",
   "metadata": {},
   "source": [
    "次にユーザーで問合せ、どのような作品が進められているかを確認します。\n",
    "\n",
    "検証用のデータを16個(≒1バッチ)ずつ読み込むローダーを作成します。"
   ]
  },
  {
   "cell_type": "code",
   "execution_count": 14,
   "id": "4bfc15bf-b9a3-4816-85c2-b287629f9b81",
   "metadata": {},
   "outputs": [],
   "source": [
    "eval_loader2 = mm.Loader(valid, batch_size=16, shuffle=False)\n",
    "batch = next(iter(eval_loader2))"
   ]
  },
  {
   "cell_type": "markdown",
   "id": "065d3ffd-821e-4fb5-889c-648111313c93",
   "metadata": {},
   "source": [
    "バッチ内のユーザーIDを表示します。"
   ]
  },
  {
   "cell_type": "code",
   "execution_count": 15,
   "id": "8fd64517-af70-49d5-ae91-1c09bd01ba53",
   "metadata": {},
   "outputs": [
    {
     "data": {
      "text/plain": [
       "<tf.Tensor: shape=(16,), dtype=int32, numpy=\n",
       "array([  30,  391, 4247,  626, 4151,   26, 2093,  457, 2164, 3156,   18,\n",
       "        569,  475, 1566, 2045,  116], dtype=int32)>"
      ]
     },
     "execution_count": 15,
     "metadata": {},
     "output_type": "execute_result"
    }
   ],
   "source": [
    "batch[0]['userId']"
   ]
  },
  {
   "cell_type": "markdown",
   "id": "eefe81d1-72dc-44d0-ad9e-efcf690f2ba2",
   "metadata": {},
   "source": [
    "バッチの各ユーザーに対してトップKを求めます。\n",
    "これは各ユーザに対してオススメの映画を20個ずつリコメンドすることに相当します。\n",
    "\n",
    "出力内容は最初の16x20個のデータはスコアで、次の16x20個は映画のIDです。"
   ]
  },
  {
   "cell_type": "code",
   "execution_count": 16,
   "id": "5c1a6bec-ea87-4e44-9370-ab9515dcce37",
   "metadata": {},
   "outputs": [
    {
     "data": {
      "text/plain": [
       "TopKPrediction(scores=<tf.Tensor: shape=(16, 20), dtype=float32, numpy=\n",
       "array([[5.2473106, 5.0404944, 5.021609 , 5.0208325, 5.009865 , 5.0030236,\n",
       "        4.9795475, 4.9742455, 4.973768 , 4.958992 , 4.9535036, 4.9525466,\n",
       "        4.929915 , 4.9290137, 4.9271564, 4.9243994, 4.920073 , 4.912663 ,\n",
       "        4.911462 , 4.8900456],\n",
       "       [5.851725 , 5.7771554, 5.7628655, 5.740063 , 5.7249045, 5.719814 ,\n",
       "        5.699365 , 5.682789 , 5.6779604, 5.6580825, 5.6551504, 5.6478696,\n",
       "        5.625829 , 5.6184826, 5.6140976, 5.610646 , 5.6096315, 5.607564 ,\n",
       "        5.604478 , 5.6042905],\n",
       "       [6.4238725, 6.2420106, 6.2263813, 6.20708  , 6.2034683, 6.193484 ,\n",
       "        6.186962 , 6.1764736, 6.151105 , 6.1011386, 6.0965314, 6.072129 ,\n",
       "        6.0611043, 6.059507 , 6.0534053, 6.039801 , 6.0396924, 6.039053 ,\n",
       "        6.035053 , 6.022934 ],\n",
       "       [5.637414 , 5.612073 , 5.5893292, 5.5749154, 5.5620933, 5.56049  ,\n",
       "        5.5600495, 5.533441 , 5.5235496, 5.493829 , 5.4888487, 5.4654264,\n",
       "        5.4516644, 5.4266124, 5.424934 , 5.405904 , 5.3979344, 5.395956 ,\n",
       "        5.389893 , 5.3799744],\n",
       "       [3.9500299, 3.927334 , 3.9272501, 3.9025075, 3.889271 , 3.8874316,\n",
       "        3.8761349, 3.8755498, 3.868314 , 3.8640122, 3.8625355, 3.8597937,\n",
       "        3.8593981, 3.8589742, 3.8502645, 3.8502579, 3.8485672, 3.8459036,\n",
       "        3.842798 , 3.8400798],\n",
       "       [3.910694 , 3.8272872, 3.8256433, 3.8174744, 3.8156688, 3.8080003,\n",
       "        3.8056252, 3.7999406, 3.798202 , 3.7924874, 3.7897139, 3.7889981,\n",
       "        3.7888637, 3.7876391, 3.7834466, 3.7800367, 3.7734594, 3.772575 ,\n",
       "        3.769517 , 3.7667654],\n",
       "       [7.2189674, 7.1770334, 7.1259212, 7.0123844, 6.9938903, 6.9639273,\n",
       "        6.958826 , 6.9489255, 6.9192   , 6.9086204, 6.905534 , 6.8980694,\n",
       "        6.8751655, 6.865095 , 6.845553 , 6.832379 , 6.8283935, 6.8274975,\n",
       "        6.8216257, 6.816401 ],\n",
       "       [3.6774218, 3.6713054, 3.6687467, 3.649679 , 3.6355526, 3.6189978,\n",
       "        3.6164634, 3.5923638, 3.5882206, 3.5845685, 3.5815516, 3.5782676,\n",
       "        3.5733206, 3.567931 , 3.558213 , 3.552641 , 3.5491438, 3.54789  ,\n",
       "        3.54122  , 3.5358052],\n",
       "       [6.5679445, 6.5159764, 6.430061 , 6.3864064, 6.3814898, 6.3670154,\n",
       "        6.3544674, 6.3543854, 6.339154 , 6.30494  , 6.3011217, 6.30108  ,\n",
       "        6.2977676, 6.2931633, 6.2769284, 6.2661   , 6.264973 , 6.258648 ,\n",
       "        6.2565227, 6.248535 ],\n",
       "       [5.913376 , 5.821636 , 5.8183117, 5.817584 , 5.8134146, 5.792583 ,\n",
       "        5.7668276, 5.765051 , 5.7589455, 5.7536087, 5.752593 , 5.7422156,\n",
       "        5.7354465, 5.7218513, 5.7170053, 5.692064 , 5.6558   , 5.637561 ,\n",
       "        5.6147857, 5.5987215],\n",
       "       [8.146985 , 8.1128235, 8.068538 , 8.060277 , 8.043085 , 8.04188  ,\n",
       "        8.026065 , 8.018203 , 8.013999 , 7.9810963, 7.9806075, 7.979325 ,\n",
       "        7.9252067, 7.912432 , 7.9030776, 7.8933134, 7.8778863, 7.871921 ,\n",
       "        7.8678503, 7.867162 ],\n",
       "       [6.458444 , 6.4450893, 6.4004364, 6.400006 , 6.3690267, 6.365078 ,\n",
       "        6.3535237, 6.3494477, 6.337764 , 6.3204536, 6.314764 , 6.309572 ,\n",
       "        6.3091187, 6.3090525, 6.2898507, 6.2853837, 6.2816963, 6.280758 ,\n",
       "        6.2791824, 6.274271 ],\n",
       "       [5.9000173, 5.796717 , 5.7751584, 5.687035 , 5.662013 , 5.654209 ,\n",
       "        5.647673 , 5.6454453, 5.637803 , 5.629991 , 5.6298356, 5.621934 ,\n",
       "        5.61458  , 5.611229 , 5.6037116, 5.6019177, 5.6017036, 5.5999646,\n",
       "        5.5989995, 5.598463 ],\n",
       "       [7.6747346, 7.5776353, 7.4501166, 7.427491 , 7.4196467, 7.3997297,\n",
       "        7.3345823, 7.3135924, 7.273096 , 7.256399 , 7.254154 , 7.2226796,\n",
       "        7.21019  , 7.1983104, 7.1875963, 7.1839185, 7.1720314, 7.168818 ,\n",
       "        7.164861 , 7.1570506],\n",
       "       [7.3756995, 7.3718615, 7.3603578, 7.329694 , 7.318441 , 7.306135 ,\n",
       "        7.30273  , 7.276062 , 7.2711024, 7.27027  , 7.2581034, 7.254475 ,\n",
       "        7.2521734, 7.228046 , 7.2207294, 7.2129903, 7.211243 , 7.210544 ,\n",
       "        7.2080917, 7.207127 ],\n",
       "       [4.160256 , 4.1159196, 4.0740395, 4.0721235, 4.046931 , 4.032066 ,\n",
       "        4.0149016, 3.9929726, 3.9921865, 3.9766705, 3.9754732, 3.9737718,\n",
       "        3.964282 , 3.94767  , 3.9469147, 3.941391 , 3.940114 , 3.915636 ,\n",
       "        3.9044812, 3.9019225]], dtype=float32)>, identifiers=<tf.Tensor: shape=(16, 20), dtype=int32, numpy=\n",
       "array([[2543, 2673, 1821, 2938, 2891, 2946, 2228, 2380, 1775, 3152, 2178,\n",
       "        2642, 2186, 2593, 2506, 1616, 1507, 2977, 1476, 2678],\n",
       "       [2228, 1821, 1848, 2765, 2673, 2241, 2684, 2543, 1507, 1558, 1938,\n",
       "        2938, 2783, 2642, 2053, 2489, 2027, 1616, 1474, 3149],\n",
       "       [1805,  781, 2213, 2571, 1599, 1341, 2473, 1955, 1827, 1091, 3280,\n",
       "        1554, 1722,  460, 1902, 1283, 2818, 1833,  441, 1238],\n",
       "       [1657, 2001, 2983, 2128, 1717, 2193, 2212, 2713, 2786, 1814, 2458,\n",
       "        1384, 2405, 2640, 2441, 2293, 2387, 3099, 1622, 1293],\n",
       "       [ 601,  168,  460,  729,  462,  732,  288,  312,  182,  581,  906,\n",
       "         377,  417,  956,  501,  186,  507, 1504,  375,  415],\n",
       "       [2187, 1995, 2189, 2671, 2739, 2003, 1512, 2738, 2787, 2175, 2581,\n",
       "        1567, 3118, 2424, 2486, 2579, 2119, 2065, 2504, 2153],\n",
       "       [ 660, 2012,  488,  955, 1984, 2087, 2520, 1664, 2292, 1675, 3095,\n",
       "        3028, 1047,  349, 1007,  979,  992, 2461, 1027, 3124],\n",
       "       [2390, 3043, 2439, 2022, 2418, 2452, 2626, 2622, 2790, 1942, 2649,\n",
       "        2940, 2550, 2466, 2660, 2156, 2345, 2960, 2981, 2516],\n",
       "       [ 110,  944,  997,  444,   37,   76,   10,   36,  278,   29,   14,\n",
       "         708,  357,  178,  119, 1024,   16,   82,  665,  459],\n",
       "       [1225,   31,  857, 1024,  997,  723,  191,  185,  256,  764,   34,\n",
       "          39,   97,  118, 2315,   41,   72,  849,  359,  254],\n",
       "       [2649, 2390, 2795, 2550, 2022, 2790, 2622, 2960, 2466, 2626, 2660,\n",
       "        2516, 2465, 2478, 1935, 1934, 3103, 2940, 2418, 2439],\n",
       "       [3152, 2178, 2121, 2916, 2322, 2279, 2036, 2306, 2891, 1482, 2248,\n",
       "        1599, 2837, 2473, 2296, 2523, 2807, 3027, 1387, 3400],\n",
       "       [1659, 1480, 1334,  749,  899, 2105, 2063, 2899, 2311, 2020, 1108,\n",
       "        1156, 1958, 1246, 2227,  919, 1103, 1385,  580, 1970],\n",
       "       [2543, 2228, 1520, 2673, 1821, 2781, 1565, 2938, 2823, 2642, 1616,\n",
       "        1322, 1938, 1836, 2612, 2339, 2409, 2639, 2053, 2067],\n",
       "       [2308, 2001, 1814, 2193, 2786, 1293, 2212, 1657, 1717, 3099, 1611,\n",
       "        1687, 1395, 2294, 1472, 1913, 1815, 1198, 1770, 1710],\n",
       "       [2981, 2388, 3139, 2486, 3043, 1810, 1942, 2790, 2435, 2634, 2787,\n",
       "        2492, 2390, 2389, 2739, 2738, 2908, 2504, 2156, 2452]],\n",
       "      dtype=int32)>)"
      ]
     },
     "execution_count": 16,
     "metadata": {},
     "output_type": "execute_result"
    }
   ],
   "source": [
    "topk_model(batch[0])"
   ]
  },
  {
   "cell_type": "markdown",
   "id": "46b50d28-22a9-416a-b04c-a14a4aa12b9d",
   "metadata": {},
   "source": [
    "## Embeddingsの計算\n",
    "\n",
    "いよいよTwo TowerモデルからユーザーとアイテムのEmbeddingを求めていきましょう。\n",
    "\n",
    "まずはTwo Towerモデルからクエリーエンコーダー(≒ユーザ情報のエンコーダー)を取り出し、ファイルに保存します。"
   ]
  },
  {
   "cell_type": "code",
   "execution_count": 17,
   "id": "a8244517-fb7e-4dad-99d5-d64170a92e3f",
   "metadata": {},
   "outputs": [
    {
     "name": "stderr",
     "output_type": "stream",
     "text": [
      "WARNING:absl:Function `_wrapped_model` contains input name(s) TE_age_rating, TE_gender_rating, TE_occupation_rating, TE_userId_rating, TE_zipcode_rating, userId with unsupported characters which will be renamed to te_age_rating, te_gender_rating, te_occupation_rating, te_userid_rating, te_zipcode_rating, userid in the SavedModel.\n",
      "WARNING:absl:Found untraced functions such as prepare_list_features_layer_call_fn, prepare_list_features_layer_call_and_return_conditional_losses, model_context_layer_call_fn, model_context_layer_call_and_return_conditional_losses, concat_features_layer_call_fn while saving (showing 5 of 22). These functions will not be directly callable after loading.\n"
     ]
    },
    {
     "name": "stdout",
     "output_type": "stream",
     "text": [
      "INFO:tensorflow:Assets written to: ./_data/query_tower/assets\n"
     ]
    },
    {
     "name": "stderr",
     "output_type": "stream",
     "text": [
      "INFO:tensorflow:Assets written to: ./_data/query_tower/assets\n"
     ]
    },
    {
     "name": "stdout",
     "output_type": "stream",
     "text": [
      "WARNING:tensorflow:No training configuration found in save file, so the model was *not* compiled. Compile it manually.\n"
     ]
    },
    {
     "name": "stderr",
     "output_type": "stream",
     "text": [
      "WARNING:tensorflow:No training configuration found in save file, so the model was *not* compiled. Compile it manually.\n"
     ]
    }
   ],
   "source": [
    "query_tower = model.query_encoder\n",
    "query_tower.save(os.path.join(DATADIR, \"query_tower\"))"
   ]
  },
  {
   "cell_type": "markdown",
   "id": "13d621b7-ba68-4bfb-9753-71b8d9827a24",
   "metadata": {},
   "source": [
    "ファイルに保存したクエリーエンコーダーを読み込みます。\n",
    "これにより一度学習が終了したエンコーダーはそれだけを抜き出して\n",
    "Embeddingsの作成に再利用できます。\n",
    "\n",
    "なおこのクエリエンコーダー(ユーザータワー)は永続化のデモのために作ったもので、\n",
    "以降のEmbeddings作成には利用しません。"
   ]
  },
  {
   "cell_type": "code",
   "execution_count": 18,
   "id": "1519554c-83c7-425e-9256-e67f1eb2d2ba",
   "metadata": {},
   "outputs": [
    {
     "name": "stdout",
     "output_type": "stream",
     "text": [
      "WARNING:tensorflow:No training configuration found in save file, so the model was *not* compiled. Compile it manually.\n"
     ]
    },
    {
     "name": "stderr",
     "output_type": "stream",
     "text": [
      "WARNING:tensorflow:No training configuration found in save file, so the model was *not* compiled. Compile it manually.\n"
     ]
    }
   ],
   "source": [
    "query_tower_loaded = tf.keras.models.load_model(os.path.join(DATADIR, \"query_tower\"))"
   ]
  },
  {
   "cell_type": "markdown",
   "id": "a394e7c9-1974-4580-aaa0-5024636f6464",
   "metadata": {},
   "source": [
    "学習に用いたデータからアイテム≒映画情報だけをすべて取り出し、\n",
    "Two Towerモデルを使って候補Embeddingsを作成します。"
   ]
  },
  {
   "cell_type": "code",
   "execution_count": 19,
   "id": "3a350859-1f76-41ab-8d81-083231d87f89",
   "metadata": {},
   "outputs": [],
   "source": [
    "item_features = (\n",
    "    unique_rows_by_features(train, Tags.ITEM, Tags.ITEM_ID).compute().reset_index(drop=True)\n",
    ")"
   ]
  },
  {
   "cell_type": "code",
   "execution_count": 20,
   "id": "54b230fe-3987-4b68-9c81-8b044c0f2526",
   "metadata": {},
   "outputs": [
    {
     "name": "stderr",
     "output_type": "stream",
     "text": [
      "2023-11-01 07:11:37.416231: I tensorflow/core/common_runtime/executor.cc:1209] [/device:CPU:0] (DEBUG INFO) Executor start aborting (this does not indicate an error and you can ignore this message): INVALID_ARGUMENT: You must feed a value for placeholder tensor 'inputs_3' with dtype int32 and shape [?]\n",
      "\t [[{{node inputs_3}}]]\n",
      "2023-11-01 07:11:37.433294: I tensorflow/core/common_runtime/executor.cc:1209] [/device:CPU:0] (DEBUG INFO) Executor start aborting (this does not indicate an error and you can ignore this message): INVALID_ARGUMENT: You must feed a value for placeholder tensor 'inputs_3' with dtype int32 and shape [?]\n",
      "\t [[{{node inputs_3}}]]\n",
      "WARNING:absl:Function `_wrapped_model` contains input name(s) TE_movieId_rating, movieId with unsupported characters which will be renamed to te_movieid_rating, movieid in the SavedModel.\n",
      "2023-11-01 07:11:37.912718: I tensorflow/core/common_runtime/executor.cc:1209] [/device:CPU:0] (DEBUG INFO) Executor start aborting (this does not indicate an error and you can ignore this message): INVALID_ARGUMENT: You must feed a value for placeholder tensor 'inputs_1' with dtype int32 and shape [?]\n",
      "\t [[{{node inputs_1}}]]\n",
      "2023-11-01 07:11:37.929798: I tensorflow/core/common_runtime/executor.cc:1209] [/device:CPU:0] (DEBUG INFO) Executor start aborting (this does not indicate an error and you can ignore this message): INVALID_ARGUMENT: You must feed a value for placeholder tensor 'inputs_1' with dtype int32 and shape [?]\n",
      "\t [[{{node inputs_1}}]]\n",
      "WARNING:absl:Found untraced functions such as prepare_list_features_1_layer_call_fn, prepare_list_features_1_layer_call_and_return_conditional_losses, model_context_layer_call_fn, model_context_layer_call_and_return_conditional_losses, concat_features_1_layer_call_fn while saving (showing 5 of 26). These functions will not be directly callable after loading.\n"
     ]
    },
    {
     "name": "stdout",
     "output_type": "stream",
     "text": [
      "INFO:tensorflow:Assets written to: /tmp/tmp62231o2q/assets\n"
     ]
    },
    {
     "name": "stderr",
     "output_type": "stream",
     "text": [
      "INFO:tensorflow:Assets written to: /tmp/tmp62231o2q/assets\n"
     ]
    },
    {
     "name": "stdout",
     "output_type": "stream",
     "text": [
      "WARNING:tensorflow:No training configuration found in save file, so the model was *not* compiled. Compile it manually.\n"
     ]
    },
    {
     "name": "stderr",
     "output_type": "stream",
     "text": [
      "WARNING:tensorflow:No training configuration found in save file, so the model was *not* compiled. Compile it manually.\n"
     ]
    },
    {
     "name": "stdout",
     "output_type": "stream",
     "text": [
      "WARNING:tensorflow:No training configuration found in save file, so the model was *not* compiled. Compile it manually.\n"
     ]
    },
    {
     "name": "stderr",
     "output_type": "stream",
     "text": [
      "WARNING:tensorflow:No training configuration found in save file, so the model was *not* compiled. Compile it manually.\n"
     ]
    }
   ],
   "source": [
    "item_embs = model.candidate_embeddings(Dataset(item_features, schema=train.schema.select_by_tag(Tags.ITEM)), \n",
    "                                       batch_size=1024, index=Tags.ITEM_ID)"
   ]
  },
  {
   "cell_type": "code",
   "execution_count": 21,
   "id": "80bf4f53-b605-4150-b5b6-ab304dd341fb",
   "metadata": {},
   "outputs": [],
   "source": [
    "item_embs_df = item_embs.compute(scheduler=\"synchronous\")"
   ]
  },
  {
   "cell_type": "markdown",
   "id": "2053c584-3e73-445a-af36-db9fb7fed9a2",
   "metadata": {},
   "source": [
    "得られたアイテム(映画作品)ごとのEmbeddingsはこんな感じになります。"
   ]
  },
  {
   "cell_type": "code",
   "execution_count": 22,
   "id": "50dc1c09-3348-4ff0-b478-ab599e79abc0",
   "metadata": {},
   "outputs": [
    {
     "data": {
      "text/html": [
       "<div>\n",
       "<style scoped>\n",
       "    .dataframe tbody tr th:only-of-type {\n",
       "        vertical-align: middle;\n",
       "    }\n",
       "\n",
       "    .dataframe tbody tr th {\n",
       "        vertical-align: top;\n",
       "    }\n",
       "\n",
       "    .dataframe thead th {\n",
       "        text-align: right;\n",
       "    }\n",
       "</style>\n",
       "<table border=\"1\" class=\"dataframe\">\n",
       "  <thead>\n",
       "    <tr style=\"text-align: right;\">\n",
       "      <th></th>\n",
       "      <th>0</th>\n",
       "      <th>1</th>\n",
       "      <th>2</th>\n",
       "      <th>3</th>\n",
       "      <th>4</th>\n",
       "      <th>5</th>\n",
       "      <th>6</th>\n",
       "      <th>7</th>\n",
       "      <th>8</th>\n",
       "      <th>9</th>\n",
       "      <th>...</th>\n",
       "      <th>54</th>\n",
       "      <th>55</th>\n",
       "      <th>56</th>\n",
       "      <th>57</th>\n",
       "      <th>58</th>\n",
       "      <th>59</th>\n",
       "      <th>60</th>\n",
       "      <th>61</th>\n",
       "      <th>62</th>\n",
       "      <th>63</th>\n",
       "    </tr>\n",
       "    <tr>\n",
       "      <th>movieId</th>\n",
       "      <th></th>\n",
       "      <th></th>\n",
       "      <th></th>\n",
       "      <th></th>\n",
       "      <th></th>\n",
       "      <th></th>\n",
       "      <th></th>\n",
       "      <th></th>\n",
       "      <th></th>\n",
       "      <th></th>\n",
       "      <th></th>\n",
       "      <th></th>\n",
       "      <th></th>\n",
       "      <th></th>\n",
       "      <th></th>\n",
       "      <th></th>\n",
       "      <th></th>\n",
       "      <th></th>\n",
       "      <th></th>\n",
       "      <th></th>\n",
       "      <th></th>\n",
       "    </tr>\n",
       "  </thead>\n",
       "  <tbody>\n",
       "    <tr>\n",
       "      <th>3</th>\n",
       "      <td>-0.147444</td>\n",
       "      <td>0.050582</td>\n",
       "      <td>0.668026</td>\n",
       "      <td>-0.219845</td>\n",
       "      <td>-0.851177</td>\n",
       "      <td>0.134543</td>\n",
       "      <td>0.322166</td>\n",
       "      <td>0.464454</td>\n",
       "      <td>0.146026</td>\n",
       "      <td>0.443802</td>\n",
       "      <td>...</td>\n",
       "      <td>0.657453</td>\n",
       "      <td>-0.406107</td>\n",
       "      <td>0.109786</td>\n",
       "      <td>-0.061233</td>\n",
       "      <td>0.271269</td>\n",
       "      <td>-0.446135</td>\n",
       "      <td>0.066186</td>\n",
       "      <td>-0.217516</td>\n",
       "      <td>-0.042538</td>\n",
       "      <td>0.081565</td>\n",
       "    </tr>\n",
       "    <tr>\n",
       "      <th>4</th>\n",
       "      <td>-0.171692</td>\n",
       "      <td>-0.159529</td>\n",
       "      <td>0.876774</td>\n",
       "      <td>0.114507</td>\n",
       "      <td>-0.776455</td>\n",
       "      <td>0.065702</td>\n",
       "      <td>0.281130</td>\n",
       "      <td>0.627219</td>\n",
       "      <td>0.283734</td>\n",
       "      <td>0.273224</td>\n",
       "      <td>...</td>\n",
       "      <td>0.850813</td>\n",
       "      <td>-0.311217</td>\n",
       "      <td>0.045049</td>\n",
       "      <td>-0.238870</td>\n",
       "      <td>0.512616</td>\n",
       "      <td>-0.269778</td>\n",
       "      <td>0.138210</td>\n",
       "      <td>-0.296963</td>\n",
       "      <td>-0.075073</td>\n",
       "      <td>-0.050319</td>\n",
       "    </tr>\n",
       "    <tr>\n",
       "      <th>5</th>\n",
       "      <td>-0.136802</td>\n",
       "      <td>-0.072625</td>\n",
       "      <td>0.786183</td>\n",
       "      <td>0.015568</td>\n",
       "      <td>-0.745793</td>\n",
       "      <td>0.083267</td>\n",
       "      <td>0.296073</td>\n",
       "      <td>0.583151</td>\n",
       "      <td>0.283043</td>\n",
       "      <td>0.262127</td>\n",
       "      <td>...</td>\n",
       "      <td>0.779731</td>\n",
       "      <td>-0.326789</td>\n",
       "      <td>0.044756</td>\n",
       "      <td>-0.238565</td>\n",
       "      <td>0.508439</td>\n",
       "      <td>-0.285793</td>\n",
       "      <td>0.191447</td>\n",
       "      <td>-0.315846</td>\n",
       "      <td>-0.027651</td>\n",
       "      <td>0.008379</td>\n",
       "    </tr>\n",
       "    <tr>\n",
       "      <th>6</th>\n",
       "      <td>0.006336</td>\n",
       "      <td>0.009275</td>\n",
       "      <td>0.682236</td>\n",
       "      <td>-0.062951</td>\n",
       "      <td>-0.621638</td>\n",
       "      <td>0.154536</td>\n",
       "      <td>0.286177</td>\n",
       "      <td>0.471288</td>\n",
       "      <td>0.293091</td>\n",
       "      <td>0.220690</td>\n",
       "      <td>...</td>\n",
       "      <td>0.688260</td>\n",
       "      <td>-0.264250</td>\n",
       "      <td>-0.033298</td>\n",
       "      <td>-0.206060</td>\n",
       "      <td>0.470009</td>\n",
       "      <td>-0.282073</td>\n",
       "      <td>0.208179</td>\n",
       "      <td>-0.414836</td>\n",
       "      <td>0.037477</td>\n",
       "      <td>0.006867</td>\n",
       "    </tr>\n",
       "    <tr>\n",
       "      <th>7</th>\n",
       "      <td>0.209664</td>\n",
       "      <td>0.042268</td>\n",
       "      <td>0.611571</td>\n",
       "      <td>-0.134667</td>\n",
       "      <td>-0.459267</td>\n",
       "      <td>0.202502</td>\n",
       "      <td>0.248140</td>\n",
       "      <td>0.364766</td>\n",
       "      <td>0.282204</td>\n",
       "      <td>0.159699</td>\n",
       "      <td>...</td>\n",
       "      <td>0.585800</td>\n",
       "      <td>-0.154604</td>\n",
       "      <td>-0.070853</td>\n",
       "      <td>-0.202419</td>\n",
       "      <td>0.423178</td>\n",
       "      <td>-0.257228</td>\n",
       "      <td>0.190183</td>\n",
       "      <td>-0.435405</td>\n",
       "      <td>0.138830</td>\n",
       "      <td>-0.010245</td>\n",
       "    </tr>\n",
       "    <tr>\n",
       "      <th>...</th>\n",
       "      <td>...</td>\n",
       "      <td>...</td>\n",
       "      <td>...</td>\n",
       "      <td>...</td>\n",
       "      <td>...</td>\n",
       "      <td>...</td>\n",
       "      <td>...</td>\n",
       "      <td>...</td>\n",
       "      <td>...</td>\n",
       "      <td>...</td>\n",
       "      <td>...</td>\n",
       "      <td>...</td>\n",
       "      <td>...</td>\n",
       "      <td>...</td>\n",
       "      <td>...</td>\n",
       "      <td>...</td>\n",
       "      <td>...</td>\n",
       "      <td>...</td>\n",
       "      <td>...</td>\n",
       "      <td>...</td>\n",
       "      <td>...</td>\n",
       "    </tr>\n",
       "    <tr>\n",
       "      <th>3670</th>\n",
       "      <td>0.487856</td>\n",
       "      <td>-0.537731</td>\n",
       "      <td>0.279271</td>\n",
       "      <td>-0.144404</td>\n",
       "      <td>-0.222311</td>\n",
       "      <td>0.324687</td>\n",
       "      <td>0.373445</td>\n",
       "      <td>0.061410</td>\n",
       "      <td>0.536197</td>\n",
       "      <td>-0.019739</td>\n",
       "      <td>...</td>\n",
       "      <td>0.652259</td>\n",
       "      <td>-0.173214</td>\n",
       "      <td>-0.073677</td>\n",
       "      <td>-0.144293</td>\n",
       "      <td>0.665965</td>\n",
       "      <td>-0.338501</td>\n",
       "      <td>0.336361</td>\n",
       "      <td>-0.390929</td>\n",
       "      <td>-0.171756</td>\n",
       "      <td>0.111921</td>\n",
       "    </tr>\n",
       "    <tr>\n",
       "      <th>3671</th>\n",
       "      <td>0.162033</td>\n",
       "      <td>0.404756</td>\n",
       "      <td>0.344630</td>\n",
       "      <td>-0.510022</td>\n",
       "      <td>-0.474333</td>\n",
       "      <td>0.218543</td>\n",
       "      <td>0.417738</td>\n",
       "      <td>0.059372</td>\n",
       "      <td>0.219341</td>\n",
       "      <td>0.287300</td>\n",
       "      <td>...</td>\n",
       "      <td>0.400295</td>\n",
       "      <td>-0.296371</td>\n",
       "      <td>0.056520</td>\n",
       "      <td>-0.137960</td>\n",
       "      <td>0.282014</td>\n",
       "      <td>-0.383754</td>\n",
       "      <td>0.364537</td>\n",
       "      <td>-0.311228</td>\n",
       "      <td>0.026025</td>\n",
       "      <td>0.346547</td>\n",
       "    </tr>\n",
       "    <tr>\n",
       "      <th>3672</th>\n",
       "      <td>0.295873</td>\n",
       "      <td>0.247074</td>\n",
       "      <td>0.335913</td>\n",
       "      <td>-0.425625</td>\n",
       "      <td>-0.380452</td>\n",
       "      <td>0.232765</td>\n",
       "      <td>0.483196</td>\n",
       "      <td>-0.028764</td>\n",
       "      <td>0.175907</td>\n",
       "      <td>0.206177</td>\n",
       "      <td>...</td>\n",
       "      <td>0.417341</td>\n",
       "      <td>-0.192952</td>\n",
       "      <td>0.131833</td>\n",
       "      <td>-0.159033</td>\n",
       "      <td>0.238903</td>\n",
       "      <td>-0.425992</td>\n",
       "      <td>0.373591</td>\n",
       "      <td>-0.255950</td>\n",
       "      <td>-0.020497</td>\n",
       "      <td>0.388377</td>\n",
       "    </tr>\n",
       "    <tr>\n",
       "      <th>3673</th>\n",
       "      <td>0.231915</td>\n",
       "      <td>0.248766</td>\n",
       "      <td>0.322127</td>\n",
       "      <td>-0.416871</td>\n",
       "      <td>-0.465505</td>\n",
       "      <td>0.166354</td>\n",
       "      <td>0.318466</td>\n",
       "      <td>0.067305</td>\n",
       "      <td>0.206941</td>\n",
       "      <td>0.263216</td>\n",
       "      <td>...</td>\n",
       "      <td>0.437672</td>\n",
       "      <td>-0.171547</td>\n",
       "      <td>-0.001713</td>\n",
       "      <td>-0.015309</td>\n",
       "      <td>0.213439</td>\n",
       "      <td>-0.437869</td>\n",
       "      <td>0.264310</td>\n",
       "      <td>-0.349054</td>\n",
       "      <td>0.090867</td>\n",
       "      <td>0.264277</td>\n",
       "    </tr>\n",
       "    <tr>\n",
       "      <th>3674</th>\n",
       "      <td>0.272380</td>\n",
       "      <td>0.150483</td>\n",
       "      <td>0.341194</td>\n",
       "      <td>-0.280083</td>\n",
       "      <td>-0.384831</td>\n",
       "      <td>0.237295</td>\n",
       "      <td>0.472962</td>\n",
       "      <td>-0.123270</td>\n",
       "      <td>0.260842</td>\n",
       "      <td>0.154904</td>\n",
       "      <td>...</td>\n",
       "      <td>0.531808</td>\n",
       "      <td>-0.204349</td>\n",
       "      <td>0.116299</td>\n",
       "      <td>-0.166800</td>\n",
       "      <td>0.335301</td>\n",
       "      <td>-0.392525</td>\n",
       "      <td>0.414284</td>\n",
       "      <td>-0.293387</td>\n",
       "      <td>-0.166677</td>\n",
       "      <td>0.421809</td>\n",
       "    </tr>\n",
       "  </tbody>\n",
       "</table>\n",
       "<p>3672 rows × 64 columns</p>\n",
       "</div>"
      ],
      "text/plain": [
       "                0         1         2         3         4         5         6  \\\n",
       "movieId                                                                         \n",
       "3       -0.147444  0.050582  0.668026 -0.219845 -0.851177  0.134543  0.322166   \n",
       "4       -0.171692 -0.159529  0.876774  0.114507 -0.776455  0.065702  0.281130   \n",
       "5       -0.136802 -0.072625  0.786183  0.015568 -0.745793  0.083267  0.296073   \n",
       "6        0.006336  0.009275  0.682236 -0.062951 -0.621638  0.154536  0.286177   \n",
       "7        0.209664  0.042268  0.611571 -0.134667 -0.459267  0.202502  0.248140   \n",
       "...           ...       ...       ...       ...       ...       ...       ...   \n",
       "3670     0.487856 -0.537731  0.279271 -0.144404 -0.222311  0.324687  0.373445   \n",
       "3671     0.162033  0.404756  0.344630 -0.510022 -0.474333  0.218543  0.417738   \n",
       "3672     0.295873  0.247074  0.335913 -0.425625 -0.380452  0.232765  0.483196   \n",
       "3673     0.231915  0.248766  0.322127 -0.416871 -0.465505  0.166354  0.318466   \n",
       "3674     0.272380  0.150483  0.341194 -0.280083 -0.384831  0.237295  0.472962   \n",
       "\n",
       "                7         8         9  ...        54        55        56  \\\n",
       "movieId                                ...                                 \n",
       "3        0.464454  0.146026  0.443802  ...  0.657453 -0.406107  0.109786   \n",
       "4        0.627219  0.283734  0.273224  ...  0.850813 -0.311217  0.045049   \n",
       "5        0.583151  0.283043  0.262127  ...  0.779731 -0.326789  0.044756   \n",
       "6        0.471288  0.293091  0.220690  ...  0.688260 -0.264250 -0.033298   \n",
       "7        0.364766  0.282204  0.159699  ...  0.585800 -0.154604 -0.070853   \n",
       "...           ...       ...       ...  ...       ...       ...       ...   \n",
       "3670     0.061410  0.536197 -0.019739  ...  0.652259 -0.173214 -0.073677   \n",
       "3671     0.059372  0.219341  0.287300  ...  0.400295 -0.296371  0.056520   \n",
       "3672    -0.028764  0.175907  0.206177  ...  0.417341 -0.192952  0.131833   \n",
       "3673     0.067305  0.206941  0.263216  ...  0.437672 -0.171547 -0.001713   \n",
       "3674    -0.123270  0.260842  0.154904  ...  0.531808 -0.204349  0.116299   \n",
       "\n",
       "               57        58        59        60        61        62        63  \n",
       "movieId                                                                        \n",
       "3       -0.061233  0.271269 -0.446135  0.066186 -0.217516 -0.042538  0.081565  \n",
       "4       -0.238870  0.512616 -0.269778  0.138210 -0.296963 -0.075073 -0.050319  \n",
       "5       -0.238565  0.508439 -0.285793  0.191447 -0.315846 -0.027651  0.008379  \n",
       "6       -0.206060  0.470009 -0.282073  0.208179 -0.414836  0.037477  0.006867  \n",
       "7       -0.202419  0.423178 -0.257228  0.190183 -0.435405  0.138830 -0.010245  \n",
       "...           ...       ...       ...       ...       ...       ...       ...  \n",
       "3670    -0.144293  0.665965 -0.338501  0.336361 -0.390929 -0.171756  0.111921  \n",
       "3671    -0.137960  0.282014 -0.383754  0.364537 -0.311228  0.026025  0.346547  \n",
       "3672    -0.159033  0.238903 -0.425992  0.373591 -0.255950 -0.020497  0.388377  \n",
       "3673    -0.015309  0.213439 -0.437869  0.264310 -0.349054  0.090867  0.264277  \n",
       "3674    -0.166800  0.335301 -0.392525  0.414284 -0.293387 -0.166677  0.421809  \n",
       "\n",
       "[3672 rows x 64 columns]"
      ]
     },
     "execution_count": 22,
     "metadata": {},
     "output_type": "execute_result"
    }
   ],
   "source": [
    "item_embs_df"
   ]
  },
  {
   "cell_type": "markdown",
   "id": "397445ba-ac33-4c07-b5e2-5b3daf5ba085",
   "metadata": {},
   "source": [
    "以下ではユーザー情報に対して同じようにして、\n",
    "ユーザーごとのEmbeddingsを取得し、表示しています。"
   ]
  },
  {
   "cell_type": "code",
   "execution_count": 23,
   "id": "505f5fd8-6ce8-44ce-815f-b0022b5cadcd",
   "metadata": {},
   "outputs": [],
   "source": [
    "user_features = (\n",
    "    unique_rows_by_features(train, Tags.USER, Tags.USER_ID).compute().reset_index(drop=True)\n",
    ")"
   ]
  },
  {
   "cell_type": "code",
   "execution_count": 24,
   "id": "4da3dabc-7ba3-45f7-acff-d7f6a743d431",
   "metadata": {},
   "outputs": [
    {
     "name": "stderr",
     "output_type": "stream",
     "text": [
      "WARNING:absl:Function `_wrapped_model` contains input name(s) TE_age_rating, TE_gender_rating, TE_occupation_rating, TE_userId_rating, TE_zipcode_rating, userId with unsupported characters which will be renamed to te_age_rating, te_gender_rating, te_occupation_rating, te_userid_rating, te_zipcode_rating, userid in the SavedModel.\n",
      "WARNING:absl:Found untraced functions such as prepare_list_features_layer_call_fn, prepare_list_features_layer_call_and_return_conditional_losses, model_context_layer_call_fn, model_context_layer_call_and_return_conditional_losses, concat_features_layer_call_fn while saving (showing 5 of 22). These functions will not be directly callable after loading.\n"
     ]
    },
    {
     "name": "stdout",
     "output_type": "stream",
     "text": [
      "INFO:tensorflow:Assets written to: /tmp/tmp5akawhqe/assets\n"
     ]
    },
    {
     "name": "stderr",
     "output_type": "stream",
     "text": [
      "INFO:tensorflow:Assets written to: /tmp/tmp5akawhqe/assets\n"
     ]
    },
    {
     "name": "stdout",
     "output_type": "stream",
     "text": [
      "WARNING:tensorflow:No training configuration found in save file, so the model was *not* compiled. Compile it manually.\n"
     ]
    },
    {
     "name": "stderr",
     "output_type": "stream",
     "text": [
      "WARNING:tensorflow:No training configuration found in save file, so the model was *not* compiled. Compile it manually.\n"
     ]
    },
    {
     "name": "stdout",
     "output_type": "stream",
     "text": [
      "WARNING:tensorflow:No training configuration found in save file, so the model was *not* compiled. Compile it manually.\n"
     ]
    },
    {
     "name": "stderr",
     "output_type": "stream",
     "text": [
      "WARNING:tensorflow:No training configuration found in save file, so the model was *not* compiled. Compile it manually.\n"
     ]
    }
   ],
   "source": [
    "user_embs = model.query_embeddings(Dataset(user_features, schema=train.schema.select_by_tag(Tags.USER)), \n",
    "                                       batch_size=1024, index=Tags.USER_ID)"
   ]
  },
  {
   "cell_type": "code",
   "execution_count": 25,
   "id": "9c8e6fb8-ce02-4e55-9f2b-a65c7372cdc8",
   "metadata": {},
   "outputs": [],
   "source": [
    "user_embs_df = user_embs.compute(scheduler=\"synchronous\")"
   ]
  },
  {
   "cell_type": "code",
   "execution_count": 26,
   "id": "9d4f0b97-9ae8-4747-9a21-a4b1b1e1477e",
   "metadata": {},
   "outputs": [
    {
     "data": {
      "text/html": [
       "<div>\n",
       "<style scoped>\n",
       "    .dataframe tbody tr th:only-of-type {\n",
       "        vertical-align: middle;\n",
       "    }\n",
       "\n",
       "    .dataframe tbody tr th {\n",
       "        vertical-align: top;\n",
       "    }\n",
       "\n",
       "    .dataframe thead th {\n",
       "        text-align: right;\n",
       "    }\n",
       "</style>\n",
       "<table border=\"1\" class=\"dataframe\">\n",
       "  <thead>\n",
       "    <tr style=\"text-align: right;\">\n",
       "      <th></th>\n",
       "      <th>0</th>\n",
       "      <th>1</th>\n",
       "      <th>2</th>\n",
       "      <th>3</th>\n",
       "      <th>4</th>\n",
       "      <th>5</th>\n",
       "      <th>6</th>\n",
       "      <th>7</th>\n",
       "      <th>8</th>\n",
       "      <th>9</th>\n",
       "      <th>...</th>\n",
       "      <th>54</th>\n",
       "      <th>55</th>\n",
       "      <th>56</th>\n",
       "      <th>57</th>\n",
       "      <th>58</th>\n",
       "      <th>59</th>\n",
       "      <th>60</th>\n",
       "      <th>61</th>\n",
       "      <th>62</th>\n",
       "      <th>63</th>\n",
       "    </tr>\n",
       "    <tr>\n",
       "      <th>userId</th>\n",
       "      <th></th>\n",
       "      <th></th>\n",
       "      <th></th>\n",
       "      <th></th>\n",
       "      <th></th>\n",
       "      <th></th>\n",
       "      <th></th>\n",
       "      <th></th>\n",
       "      <th></th>\n",
       "      <th></th>\n",
       "      <th></th>\n",
       "      <th></th>\n",
       "      <th></th>\n",
       "      <th></th>\n",
       "      <th></th>\n",
       "      <th></th>\n",
       "      <th></th>\n",
       "      <th></th>\n",
       "      <th></th>\n",
       "      <th></th>\n",
       "      <th></th>\n",
       "    </tr>\n",
       "  </thead>\n",
       "  <tbody>\n",
       "    <tr>\n",
       "      <th>3</th>\n",
       "      <td>0.457347</td>\n",
       "      <td>-0.032113</td>\n",
       "      <td>-0.161887</td>\n",
       "      <td>-0.364481</td>\n",
       "      <td>-0.031274</td>\n",
       "      <td>0.146369</td>\n",
       "      <td>0.511729</td>\n",
       "      <td>-0.334058</td>\n",
       "      <td>-0.281635</td>\n",
       "      <td>0.033677</td>\n",
       "      <td>...</td>\n",
       "      <td>0.067177</td>\n",
       "      <td>-0.061617</td>\n",
       "      <td>0.460160</td>\n",
       "      <td>-0.242294</td>\n",
       "      <td>0.108161</td>\n",
       "      <td>-0.461572</td>\n",
       "      <td>0.478589</td>\n",
       "      <td>0.080709</td>\n",
       "      <td>-0.239934</td>\n",
       "      <td>0.522792</td>\n",
       "    </tr>\n",
       "    <tr>\n",
       "      <th>4</th>\n",
       "      <td>0.304047</td>\n",
       "      <td>-0.176855</td>\n",
       "      <td>-0.348314</td>\n",
       "      <td>-0.362473</td>\n",
       "      <td>0.097906</td>\n",
       "      <td>0.023264</td>\n",
       "      <td>0.290237</td>\n",
       "      <td>-0.391030</td>\n",
       "      <td>0.454480</td>\n",
       "      <td>0.099648</td>\n",
       "      <td>...</td>\n",
       "      <td>0.315880</td>\n",
       "      <td>-0.025935</td>\n",
       "      <td>0.538470</td>\n",
       "      <td>-0.072790</td>\n",
       "      <td>0.436326</td>\n",
       "      <td>-0.390708</td>\n",
       "      <td>0.740093</td>\n",
       "      <td>-0.325449</td>\n",
       "      <td>-0.165854</td>\n",
       "      <td>0.350934</td>\n",
       "    </tr>\n",
       "    <tr>\n",
       "      <th>5</th>\n",
       "      <td>0.234984</td>\n",
       "      <td>0.042859</td>\n",
       "      <td>0.025779</td>\n",
       "      <td>-0.377027</td>\n",
       "      <td>0.034543</td>\n",
       "      <td>0.034160</td>\n",
       "      <td>0.437153</td>\n",
       "      <td>-0.125268</td>\n",
       "      <td>-0.112712</td>\n",
       "      <td>-0.062019</td>\n",
       "      <td>...</td>\n",
       "      <td>-0.141724</td>\n",
       "      <td>-0.117448</td>\n",
       "      <td>0.535965</td>\n",
       "      <td>-0.151354</td>\n",
       "      <td>0.103121</td>\n",
       "      <td>-0.265549</td>\n",
       "      <td>0.633049</td>\n",
       "      <td>0.077487</td>\n",
       "      <td>-0.230554</td>\n",
       "      <td>0.217161</td>\n",
       "    </tr>\n",
       "    <tr>\n",
       "      <th>6</th>\n",
       "      <td>0.510149</td>\n",
       "      <td>-0.253637</td>\n",
       "      <td>-0.265680</td>\n",
       "      <td>-0.343176</td>\n",
       "      <td>-0.010996</td>\n",
       "      <td>0.232242</td>\n",
       "      <td>0.308537</td>\n",
       "      <td>-0.146164</td>\n",
       "      <td>-0.129688</td>\n",
       "      <td>-0.050639</td>\n",
       "      <td>...</td>\n",
       "      <td>0.076357</td>\n",
       "      <td>-0.181547</td>\n",
       "      <td>0.206294</td>\n",
       "      <td>-0.260557</td>\n",
       "      <td>0.271412</td>\n",
       "      <td>-0.405505</td>\n",
       "      <td>0.430468</td>\n",
       "      <td>0.101922</td>\n",
       "      <td>0.019822</td>\n",
       "      <td>0.421268</td>\n",
       "    </tr>\n",
       "    <tr>\n",
       "      <th>7</th>\n",
       "      <td>0.337627</td>\n",
       "      <td>-0.185552</td>\n",
       "      <td>-0.126563</td>\n",
       "      <td>-0.490215</td>\n",
       "      <td>-0.140354</td>\n",
       "      <td>0.284786</td>\n",
       "      <td>0.259011</td>\n",
       "      <td>-0.084307</td>\n",
       "      <td>-0.102351</td>\n",
       "      <td>0.039404</td>\n",
       "      <td>...</td>\n",
       "      <td>0.192136</td>\n",
       "      <td>-0.154326</td>\n",
       "      <td>0.249652</td>\n",
       "      <td>-0.473305</td>\n",
       "      <td>0.440182</td>\n",
       "      <td>-0.452662</td>\n",
       "      <td>0.667182</td>\n",
       "      <td>0.000998</td>\n",
       "      <td>0.028943</td>\n",
       "      <td>0.544162</td>\n",
       "    </tr>\n",
       "    <tr>\n",
       "      <th>...</th>\n",
       "      <td>...</td>\n",
       "      <td>...</td>\n",
       "      <td>...</td>\n",
       "      <td>...</td>\n",
       "      <td>...</td>\n",
       "      <td>...</td>\n",
       "      <td>...</td>\n",
       "      <td>...</td>\n",
       "      <td>...</td>\n",
       "      <td>...</td>\n",
       "      <td>...</td>\n",
       "      <td>...</td>\n",
       "      <td>...</td>\n",
       "      <td>...</td>\n",
       "      <td>...</td>\n",
       "      <td>...</td>\n",
       "      <td>...</td>\n",
       "      <td>...</td>\n",
       "      <td>...</td>\n",
       "      <td>...</td>\n",
       "      <td>...</td>\n",
       "    </tr>\n",
       "    <tr>\n",
       "      <th>6038</th>\n",
       "      <td>0.133999</td>\n",
       "      <td>-0.031560</td>\n",
       "      <td>-0.029437</td>\n",
       "      <td>-0.382227</td>\n",
       "      <td>0.002695</td>\n",
       "      <td>0.004241</td>\n",
       "      <td>0.172209</td>\n",
       "      <td>0.100258</td>\n",
       "      <td>-0.277449</td>\n",
       "      <td>0.083486</td>\n",
       "      <td>...</td>\n",
       "      <td>0.012242</td>\n",
       "      <td>-0.059664</td>\n",
       "      <td>0.101092</td>\n",
       "      <td>-0.175009</td>\n",
       "      <td>-0.009049</td>\n",
       "      <td>-0.424664</td>\n",
       "      <td>0.167673</td>\n",
       "      <td>-0.087562</td>\n",
       "      <td>0.153424</td>\n",
       "      <td>0.041428</td>\n",
       "    </tr>\n",
       "    <tr>\n",
       "      <th>6039</th>\n",
       "      <td>-0.413507</td>\n",
       "      <td>0.084532</td>\n",
       "      <td>0.557934</td>\n",
       "      <td>-0.402851</td>\n",
       "      <td>-0.423542</td>\n",
       "      <td>0.078683</td>\n",
       "      <td>0.470944</td>\n",
       "      <td>0.032453</td>\n",
       "      <td>0.426948</td>\n",
       "      <td>0.148860</td>\n",
       "      <td>...</td>\n",
       "      <td>0.535998</td>\n",
       "      <td>-0.047162</td>\n",
       "      <td>-0.577307</td>\n",
       "      <td>-0.096690</td>\n",
       "      <td>0.248784</td>\n",
       "      <td>-0.341795</td>\n",
       "      <td>-0.308271</td>\n",
       "      <td>-0.598545</td>\n",
       "      <td>-0.375325</td>\n",
       "      <td>0.452110</td>\n",
       "    </tr>\n",
       "    <tr>\n",
       "      <th>6040</th>\n",
       "      <td>0.197658</td>\n",
       "      <td>0.068413</td>\n",
       "      <td>0.271072</td>\n",
       "      <td>-0.219338</td>\n",
       "      <td>-0.015051</td>\n",
       "      <td>-0.052170</td>\n",
       "      <td>0.217175</td>\n",
       "      <td>0.295712</td>\n",
       "      <td>-0.050240</td>\n",
       "      <td>-0.157143</td>\n",
       "      <td>...</td>\n",
       "      <td>0.115599</td>\n",
       "      <td>-0.305095</td>\n",
       "      <td>0.220936</td>\n",
       "      <td>-0.306123</td>\n",
       "      <td>0.277484</td>\n",
       "      <td>-0.139658</td>\n",
       "      <td>0.582413</td>\n",
       "      <td>0.059640</td>\n",
       "      <td>0.171803</td>\n",
       "      <td>0.035237</td>\n",
       "    </tr>\n",
       "    <tr>\n",
       "      <th>6041</th>\n",
       "      <td>0.114421</td>\n",
       "      <td>0.160766</td>\n",
       "      <td>0.111379</td>\n",
       "      <td>-0.367527</td>\n",
       "      <td>-0.042621</td>\n",
       "      <td>-0.067111</td>\n",
       "      <td>0.262321</td>\n",
       "      <td>0.152877</td>\n",
       "      <td>-0.285098</td>\n",
       "      <td>-0.040187</td>\n",
       "      <td>...</td>\n",
       "      <td>0.066391</td>\n",
       "      <td>-0.288822</td>\n",
       "      <td>0.173883</td>\n",
       "      <td>-0.164307</td>\n",
       "      <td>-0.002157</td>\n",
       "      <td>-0.371397</td>\n",
       "      <td>0.213925</td>\n",
       "      <td>0.093640</td>\n",
       "      <td>0.211574</td>\n",
       "      <td>0.032057</td>\n",
       "    </tr>\n",
       "    <tr>\n",
       "      <th>6042</th>\n",
       "      <td>0.362041</td>\n",
       "      <td>-0.004136</td>\n",
       "      <td>-0.212136</td>\n",
       "      <td>-0.371723</td>\n",
       "      <td>-0.148375</td>\n",
       "      <td>0.103055</td>\n",
       "      <td>0.445331</td>\n",
       "      <td>-0.087971</td>\n",
       "      <td>-0.621651</td>\n",
       "      <td>0.088607</td>\n",
       "      <td>...</td>\n",
       "      <td>0.139987</td>\n",
       "      <td>-0.116671</td>\n",
       "      <td>-0.057296</td>\n",
       "      <td>-0.373623</td>\n",
       "      <td>-0.042531</td>\n",
       "      <td>-0.624371</td>\n",
       "      <td>0.207637</td>\n",
       "      <td>0.057295</td>\n",
       "      <td>0.071618</td>\n",
       "      <td>0.363165</td>\n",
       "    </tr>\n",
       "  </tbody>\n",
       "</table>\n",
       "<p>6040 rows × 64 columns</p>\n",
       "</div>"
      ],
      "text/plain": [
       "               0         1         2         3         4         5         6  \\\n",
       "userId                                                                         \n",
       "3       0.457347 -0.032113 -0.161887 -0.364481 -0.031274  0.146369  0.511729   \n",
       "4       0.304047 -0.176855 -0.348314 -0.362473  0.097906  0.023264  0.290237   \n",
       "5       0.234984  0.042859  0.025779 -0.377027  0.034543  0.034160  0.437153   \n",
       "6       0.510149 -0.253637 -0.265680 -0.343176 -0.010996  0.232242  0.308537   \n",
       "7       0.337627 -0.185552 -0.126563 -0.490215 -0.140354  0.284786  0.259011   \n",
       "...          ...       ...       ...       ...       ...       ...       ...   \n",
       "6038    0.133999 -0.031560 -0.029437 -0.382227  0.002695  0.004241  0.172209   \n",
       "6039   -0.413507  0.084532  0.557934 -0.402851 -0.423542  0.078683  0.470944   \n",
       "6040    0.197658  0.068413  0.271072 -0.219338 -0.015051 -0.052170  0.217175   \n",
       "6041    0.114421  0.160766  0.111379 -0.367527 -0.042621 -0.067111  0.262321   \n",
       "6042    0.362041 -0.004136 -0.212136 -0.371723 -0.148375  0.103055  0.445331   \n",
       "\n",
       "               7         8         9  ...        54        55        56  \\\n",
       "userId                                ...                                 \n",
       "3      -0.334058 -0.281635  0.033677  ...  0.067177 -0.061617  0.460160   \n",
       "4      -0.391030  0.454480  0.099648  ...  0.315880 -0.025935  0.538470   \n",
       "5      -0.125268 -0.112712 -0.062019  ... -0.141724 -0.117448  0.535965   \n",
       "6      -0.146164 -0.129688 -0.050639  ...  0.076357 -0.181547  0.206294   \n",
       "7      -0.084307 -0.102351  0.039404  ...  0.192136 -0.154326  0.249652   \n",
       "...          ...       ...       ...  ...       ...       ...       ...   \n",
       "6038    0.100258 -0.277449  0.083486  ...  0.012242 -0.059664  0.101092   \n",
       "6039    0.032453  0.426948  0.148860  ...  0.535998 -0.047162 -0.577307   \n",
       "6040    0.295712 -0.050240 -0.157143  ...  0.115599 -0.305095  0.220936   \n",
       "6041    0.152877 -0.285098 -0.040187  ...  0.066391 -0.288822  0.173883   \n",
       "6042   -0.087971 -0.621651  0.088607  ...  0.139987 -0.116671 -0.057296   \n",
       "\n",
       "              57        58        59        60        61        62        63  \n",
       "userId                                                                        \n",
       "3      -0.242294  0.108161 -0.461572  0.478589  0.080709 -0.239934  0.522792  \n",
       "4      -0.072790  0.436326 -0.390708  0.740093 -0.325449 -0.165854  0.350934  \n",
       "5      -0.151354  0.103121 -0.265549  0.633049  0.077487 -0.230554  0.217161  \n",
       "6      -0.260557  0.271412 -0.405505  0.430468  0.101922  0.019822  0.421268  \n",
       "7      -0.473305  0.440182 -0.452662  0.667182  0.000998  0.028943  0.544162  \n",
       "...          ...       ...       ...       ...       ...       ...       ...  \n",
       "6038   -0.175009 -0.009049 -0.424664  0.167673 -0.087562  0.153424  0.041428  \n",
       "6039   -0.096690  0.248784 -0.341795 -0.308271 -0.598545 -0.375325  0.452110  \n",
       "6040   -0.306123  0.277484 -0.139658  0.582413  0.059640  0.171803  0.035237  \n",
       "6041   -0.164307 -0.002157 -0.371397  0.213925  0.093640  0.211574  0.032057  \n",
       "6042   -0.373623 -0.042531 -0.624371  0.207637  0.057295  0.071618  0.363165  \n",
       "\n",
       "[6040 rows x 64 columns]"
      ]
     },
     "execution_count": 26,
     "metadata": {},
     "output_type": "execute_result"
    }
   ],
   "source": [
    "user_embs_df"
   ]
  },
  {
   "cell_type": "markdown",
   "id": "8cd6d24c-cbc8-4aca-a7b1-5e037ad5d1e5",
   "metadata": {},
   "source": [
    "---\n",
    "\n",
    "以上でTwo Towerモデルの学習と、それを用いたEmbeddingsの計算のデモは終わりです。\n",
    "お疲れさまでした。"
   ]
  }
 ],
 "metadata": {
  "kernelspec": {
   "display_name": "Python 3 (ipykernel)",
   "language": "python",
   "name": "python3"
  },
  "language_info": {
   "codemirror_mode": {
    "name": "ipython",
    "version": 3
   },
   "file_extension": ".py",
   "mimetype": "text/x-python",
   "name": "python",
   "nbconvert_exporter": "python",
   "pygments_lexer": "ipython3",
   "version": "3.10.12"
  }
 },
 "nbformat": 4,
 "nbformat_minor": 5
}
